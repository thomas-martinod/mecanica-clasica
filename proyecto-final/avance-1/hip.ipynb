{
 "cells": [
  {
   "cell_type": "code",
   "execution_count": 8,
   "metadata": {},
   "outputs": [],
   "source": [
    "import sympy as smp"
   ]
  },
  {
   "cell_type": "code",
   "execution_count": 10,
   "metadata": {},
   "outputs": [],
   "source": [
    "x, r0 = smp.symbols('x, r_0')\n",
    "y = smp.symbols('y', cls=smp.Function)\n",
    "\n",
    "y = y(x)"
   ]
  },
  {
   "cell_type": "code",
   "execution_count": 12,
   "metadata": {},
   "outputs": [
    {
     "data": {
      "text/latex": [
       "$\\displaystyle \\frac{\\sqrt{x^{2} + y^{2}{\\left(x \\right)}}}{r_{0}}$"
      ],
      "text/plain": [
       "sqrt(x**2 + y(x)**2)/r_0"
      ]
     },
     "execution_count": 12,
     "metadata": {},
     "output_type": "execute_result"
    }
   ],
   "source": [
    "n = smp.sqrt(x**2 + y**2)/r0\n",
    "n"
   ]
  },
  {
   "cell_type": "code",
   "execution_count": 14,
   "metadata": {},
   "outputs": [],
   "source": [
    "dy = smp.diff(y,x)\n",
    "d2y = smp.diff(dy, x)"
   ]
  },
  {
   "cell_type": "code",
   "execution_count": 16,
   "metadata": {},
   "outputs": [
    {
     "data": {
      "text/latex": [
       "$\\displaystyle \\frac{\\sqrt{x^{2} + y^{2}{\\left(x \\right)}} \\sqrt{\\frac{d}{d x} y{\\left(x \\right)} + 1}}{r_{0}}$"
      ],
      "text/plain": [
       "sqrt(x**2 + y(x)**2)*sqrt(Derivative(y(x), x) + 1)/r_0"
      ]
     },
     "execution_count": 16,
     "metadata": {},
     "output_type": "execute_result"
    }
   ],
   "source": [
    "L = n*smp.sqrt(1+dy)\n",
    "L"
   ]
  },
  {
   "cell_type": "code",
   "execution_count": 18,
   "metadata": {},
   "outputs": [
    {
     "data": {
      "text/latex": [
       "$\\displaystyle \\frac{\\sqrt{\\frac{d}{d x} y{\\left(x \\right)} + 1} y{\\left(x \\right)}}{r_{0} \\sqrt{x^{2} + y^{2}{\\left(x \\right)}}}$"
      ],
      "text/plain": [
       "sqrt(Derivative(y(x), x) + 1)*y(x)/(r_0*sqrt(x**2 + y(x)**2))"
      ]
     },
     "execution_count": 18,
     "metadata": {},
     "output_type": "execute_result"
    }
   ],
   "source": [
    "dLdy = smp.diff(L, y)\n",
    "dLdy"
   ]
  },
  {
   "cell_type": "code",
   "execution_count": 20,
   "metadata": {},
   "outputs": [
    {
     "data": {
      "text/latex": [
       "$\\displaystyle \\frac{\\sqrt{x^{2} + y^{2}{\\left(x \\right)}}}{2 r_{0} \\sqrt{\\frac{d}{d x} y{\\left(x \\right)} + 1}}$"
      ],
      "text/plain": [
       "sqrt(x**2 + y(x)**2)/(2*r_0*sqrt(Derivative(y(x), x) + 1))"
      ]
     },
     "execution_count": 20,
     "metadata": {},
     "output_type": "execute_result"
    }
   ],
   "source": [
    "dLddy = smp.diff(L, dy)\n",
    "dLddy"
   ]
  },
  {
   "cell_type": "code",
   "execution_count": 22,
   "metadata": {},
   "outputs": [
    {
     "data": {
      "text/latex": [
       "$\\displaystyle \\frac{x + y{\\left(x \\right)} \\frac{d}{d x} y{\\left(x \\right)}}{2 r_{0} \\sqrt{x^{2} + y^{2}{\\left(x \\right)}} \\sqrt{\\frac{d}{d x} y{\\left(x \\right)} + 1}} - \\frac{\\sqrt{x^{2} + y^{2}{\\left(x \\right)}} \\frac{d^{2}}{d x^{2}} y{\\left(x \\right)}}{4 r_{0} \\left(\\frac{d}{d x} y{\\left(x \\right)} + 1\\right)^{\\frac{3}{2}}}$"
      ],
      "text/plain": [
       "(x + y(x)*Derivative(y(x), x))/(2*r_0*sqrt(x**2 + y(x)**2)*sqrt(Derivative(y(x), x) + 1)) - sqrt(x**2 + y(x)**2)*Derivative(y(x), (x, 2))/(4*r_0*(Derivative(y(x), x) + 1)**(3/2))"
      ]
     },
     "execution_count": 22,
     "metadata": {},
     "output_type": "execute_result"
    }
   ],
   "source": [
    "dLddydx = smp.diff(dLddy, x)\n",
    "dLddydx"
   ]
  },
  {
   "cell_type": "code",
   "execution_count": 34,
   "metadata": {},
   "outputs": [
    {
     "data": {
      "text/latex": [
       "$\\displaystyle \\frac{\\sqrt{\\frac{d}{d x} y{\\left(x \\right)} + 1} y{\\left(x \\right)}}{r_{0} \\sqrt{x^{2} + y^{2}{\\left(x \\right)}}} = \\frac{2 \\left(x + y{\\left(x \\right)} \\frac{d}{d x} y{\\left(x \\right)}\\right) \\left(\\frac{d}{d x} y{\\left(x \\right)} + 1\\right) - \\left(x^{2} + y^{2}{\\left(x \\right)}\\right) \\frac{d^{2}}{d x^{2}} y{\\left(x \\right)}}{4 r_{0} \\sqrt{x^{2} + y^{2}{\\left(x \\right)}} \\left(\\frac{d}{d x} y{\\left(x \\right)} + 1\\right)^{\\frac{3}{2}}}$"
      ],
      "text/plain": [
       "Eq(sqrt(Derivative(y(x), x) + 1)*y(x)/(r_0*sqrt(x**2 + y(x)**2)), (2*(x + y(x)*Derivative(y(x), x))*(Derivative(y(x), x) + 1) - (x**2 + y(x)**2)*Derivative(y(x), (x, 2)))/(4*r_0*sqrt(x**2 + y(x)**2)*(Derivative(y(x), x) + 1)**(3/2)))"
      ]
     },
     "execution_count": 34,
     "metadata": {},
     "output_type": "execute_result"
    }
   ],
   "source": [
    "EL = smp.Eq(dLddydx, dLdy).simplify()\n",
    "EL"
   ]
  },
  {
   "cell_type": "code",
   "execution_count": 33,
   "metadata": {},
   "outputs": [
    {
     "data": {
      "text/plain": [
       "[2*(x*Derivative(y(x), x) + x - y(x)*Derivative(y(x), x)**2 - 3*y(x)*Derivative(y(x), x) - 2*y(x))/(x**2 + y(x)**2)]"
      ]
     },
     "execution_count": 33,
     "metadata": {},
     "output_type": "execute_result"
    }
   ],
   "source": [
    "sln = smp.solve(EL, d2y)\n",
    "sln"
   ]
  }
 ],
 "metadata": {
  "kernelspec": {
   "display_name": "Python 3",
   "language": "python",
   "name": "python3"
  },
  "language_info": {
   "codemirror_mode": {
    "name": "ipython",
    "version": 3
   },
   "file_extension": ".py",
   "mimetype": "text/x-python",
   "name": "python",
   "nbconvert_exporter": "python",
   "pygments_lexer": "ipython3",
   "version": "3.11.3"
  }
 },
 "nbformat": 4,
 "nbformat_minor": 2
}
