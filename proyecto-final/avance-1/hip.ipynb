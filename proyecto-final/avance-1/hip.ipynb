{
 "cells": [
  {
   "cell_type": "code",
   "execution_count": 67,
   "metadata": {},
   "outputs": [],
   "source": [
    "import sympy as smp"
   ]
  },
  {
   "cell_type": "code",
   "execution_count": 68,
   "metadata": {},
   "outputs": [],
   "source": [
    "x, r0 = smp.symbols('x, r_0')\n",
    "y = smp.symbols('y', cls=smp.Function)\n",
    "\n",
    "y = y(x)"
   ]
  },
  {
   "cell_type": "code",
   "execution_count": 69,
   "metadata": {},
   "outputs": [
    {
     "data": {
      "text/latex": [
       "$\\displaystyle \\frac{\\sqrt{x^{2} + y^{2}{\\left(x \\right)}}}{r_{0}}$"
      ],
      "text/plain": [
       "sqrt(x**2 + y(x)**2)/r_0"
      ]
     },
     "execution_count": 69,
     "metadata": {},
     "output_type": "execute_result"
    }
   ],
   "source": [
    "n = smp.sqrt(x**2 + y**2)/r0\n",
    "n"
   ]
  },
  {
   "cell_type": "code",
   "execution_count": 70,
   "metadata": {},
   "outputs": [],
   "source": [
    "dy = smp.diff(y,x)\n",
    "d2y = smp.diff(dy, x)"
   ]
  },
  {
   "cell_type": "code",
   "execution_count": 71,
   "metadata": {},
   "outputs": [
    {
     "data": {
      "text/latex": [
       "$\\displaystyle \\frac{\\sqrt{x^{2} + y^{2}{\\left(x \\right)}} \\sqrt{\\frac{d}{d x} y{\\left(x \\right)} + 1}}{r_{0}}$"
      ],
      "text/plain": [
       "sqrt(x**2 + y(x)**2)*sqrt(Derivative(y(x), x) + 1)/r_0"
      ]
     },
     "execution_count": 71,
     "metadata": {},
     "output_type": "execute_result"
    }
   ],
   "source": [
    "L = n*smp.sqrt(1+dy)\n",
    "L"
   ]
  },
  {
   "cell_type": "code",
   "execution_count": 72,
   "metadata": {},
   "outputs": [
    {
     "data": {
      "text/latex": [
       "$\\displaystyle \\frac{\\sqrt{\\frac{d}{d x} y{\\left(x \\right)} + 1} y{\\left(x \\right)}}{r_{0} \\sqrt{x^{2} + y^{2}{\\left(x \\right)}}}$"
      ],
      "text/plain": [
       "sqrt(Derivative(y(x), x) + 1)*y(x)/(r_0*sqrt(x**2 + y(x)**2))"
      ]
     },
     "execution_count": 72,
     "metadata": {},
     "output_type": "execute_result"
    }
   ],
   "source": [
    "dLdy = smp.diff(L, y)\n",
    "dLdy"
   ]
  },
  {
   "cell_type": "code",
   "execution_count": 73,
   "metadata": {},
   "outputs": [
    {
     "data": {
      "text/latex": [
       "$\\displaystyle \\frac{\\sqrt{x^{2} + y^{2}{\\left(x \\right)}}}{2 r_{0} \\sqrt{\\frac{d}{d x} y{\\left(x \\right)} + 1}}$"
      ],
      "text/plain": [
       "sqrt(x**2 + y(x)**2)/(2*r_0*sqrt(Derivative(y(x), x) + 1))"
      ]
     },
     "execution_count": 73,
     "metadata": {},
     "output_type": "execute_result"
    }
   ],
   "source": [
    "dLddy = smp.diff(L, dy)\n",
    "dLddy"
   ]
  },
  {
   "cell_type": "code",
   "execution_count": 74,
   "metadata": {},
   "outputs": [
    {
     "data": {
      "text/latex": [
       "$\\displaystyle \\frac{x + y{\\left(x \\right)} \\frac{d}{d x} y{\\left(x \\right)}}{2 r_{0} \\sqrt{x^{2} + y^{2}{\\left(x \\right)}} \\sqrt{\\frac{d}{d x} y{\\left(x \\right)} + 1}} - \\frac{\\sqrt{x^{2} + y^{2}{\\left(x \\right)}} \\frac{d^{2}}{d x^{2}} y{\\left(x \\right)}}{4 r_{0} \\left(\\frac{d}{d x} y{\\left(x \\right)} + 1\\right)^{\\frac{3}{2}}}$"
      ],
      "text/plain": [
       "(x + y(x)*Derivative(y(x), x))/(2*r_0*sqrt(x**2 + y(x)**2)*sqrt(Derivative(y(x), x) + 1)) - sqrt(x**2 + y(x)**2)*Derivative(y(x), (x, 2))/(4*r_0*(Derivative(y(x), x) + 1)**(3/2))"
      ]
     },
     "execution_count": 74,
     "metadata": {},
     "output_type": "execute_result"
    }
   ],
   "source": [
    "dLddydx = smp.diff(dLddy, x)\n",
    "dLddydx"
   ]
  },
  {
   "cell_type": "code",
   "execution_count": 75,
   "metadata": {},
   "outputs": [
    {
     "data": {
      "text/latex": [
       "$\\displaystyle \\frac{\\sqrt{\\frac{d}{d x} y{\\left(x \\right)} + 1} y{\\left(x \\right)}}{r_{0} \\sqrt{x^{2} + y^{2}{\\left(x \\right)}}} = \\frac{2 \\left(x + y{\\left(x \\right)} \\frac{d}{d x} y{\\left(x \\right)}\\right) \\left(\\frac{d}{d x} y{\\left(x \\right)} + 1\\right) - \\left(x^{2} + y^{2}{\\left(x \\right)}\\right) \\frac{d^{2}}{d x^{2}} y{\\left(x \\right)}}{4 r_{0} \\sqrt{x^{2} + y^{2}{\\left(x \\right)}} \\left(\\frac{d}{d x} y{\\left(x \\right)} + 1\\right)^{\\frac{3}{2}}}$"
      ],
      "text/plain": [
       "Eq(sqrt(Derivative(y(x), x) + 1)*y(x)/(r_0*sqrt(x**2 + y(x)**2)), (2*(x + y(x)*Derivative(y(x), x))*(Derivative(y(x), x) + 1) - (x**2 + y(x)**2)*Derivative(y(x), (x, 2)))/(4*r_0*sqrt(x**2 + y(x)**2)*(Derivative(y(x), x) + 1)**(3/2)))"
      ]
     },
     "execution_count": 75,
     "metadata": {},
     "output_type": "execute_result"
    }
   ],
   "source": [
    "EL = smp.Eq(dLddydx, dLdy).simplify()\n",
    "EL"
   ]
  },
  {
   "cell_type": "code",
   "execution_count": 76,
   "metadata": {},
   "outputs": [
    {
     "data": {
      "text/plain": [
       "[2*(x*Derivative(y(x), x) + x - y(x)*Derivative(y(x), x)**2 - 3*y(x)*Derivative(y(x), x) - 2*y(x))/(x**2 + y(x)**2)]"
      ]
     },
     "execution_count": 76,
     "metadata": {},
     "output_type": "execute_result"
    }
   ],
   "source": [
    "sln = smp.solve(EL, d2y)\n",
    "sln"
   ]
  },
  {
   "cell_type": "code",
   "execution_count": 77,
   "metadata": {},
   "outputs": [
    {
     "data": {
      "text/plain": [
       "[{A: 11, B: 130/9}]"
      ]
     },
     "execution_count": 77,
     "metadata": {},
     "output_type": "execute_result"
    }
   ],
   "source": [
    "a,b = smp.symbols('A,B')\n",
    "k=3\n",
    "EQ1 = smp.Eq(5**2, k**2 * b - (1 + a)**2)\n",
    "EQ2 = smp.Eq(5**2, k**2 * b - (6 + a)**2)\n",
    "\n",
    "smp.solve([EQ1, EQ2], (a,b), dict=True)"
   ]
  }
 ],
 "metadata": {
  "kernelspec": {
   "display_name": "Python 3",
   "language": "python",
   "name": "python3"
  },
  "language_info": {
   "codemirror_mode": {
    "name": "ipython",
    "version": 3
   },
   "file_extension": ".py",
   "mimetype": "text/x-python",
   "name": "python",
   "nbconvert_exporter": "python",
   "pygments_lexer": "ipython3",
   "version": "3.11.3"
  }
 },
 "nbformat": 4,
 "nbformat_minor": 2
}
