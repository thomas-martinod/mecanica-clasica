{
  "cells": [
    {
      "cell_type": "code",
      "execution_count": 1,
      "metadata": {
        "id": "LkNNCy00YnSP"
      },
      "outputs": [],
      "source": [
        "import sympy as smp"
      ]
    },
    {
      "cell_type": "code",
      "execution_count": 2,
      "metadata": {
        "id": "2kAlX9B5YnSR"
      },
      "outputs": [],
      "source": [
        "x, r0 = smp.symbols('x, r_0')\n",
        "y = smp.symbols('y', cls=smp.Function)\n",
        "\n",
        "y = y(x)"
      ]
    },
    {
      "cell_type": "code",
      "execution_count": 3,
      "metadata": {
        "colab": {
          "base_uri": "https://localhost:8080/",
          "height": 59
        },
        "id": "e89YCZDEYnSS",
        "outputId": "7123cc14-b462-4338-e947-22577492ec6a"
      },
      "outputs": [
        {
          "data": {
            "text/latex": [
              "$\\displaystyle \\frac{\\sqrt{x^{2} + y^{2}{\\left(x \\right)}}}{r_{0}}$"
            ],
            "text/plain": [
              "sqrt(x**2 + y(x)**2)/r_0"
            ]
          },
          "execution_count": 3,
          "metadata": {},
          "output_type": "execute_result"
        }
      ],
      "source": [
        "n = smp.sqrt(x**2 + y**2)/r0\n",
        "n"
      ]
    },
    {
      "cell_type": "code",
      "execution_count": 4,
      "metadata": {
        "id": "UPZFNG0nYnST"
      },
      "outputs": [],
      "source": [
        "dy = smp.diff(y,x)\n",
        "d2y = smp.diff(dy, x)"
      ]
    },
    {
      "cell_type": "code",
      "execution_count": 5,
      "metadata": {
        "colab": {
          "base_uri": "https://localhost:8080/",
          "height": 69
        },
        "id": "cogNoA7uYnST",
        "outputId": "9ecb2d10-196b-4ab6-8d08-1b95130cc63b"
      },
      "outputs": [
        {
          "data": {
            "text/latex": [
              "$\\displaystyle \\frac{\\sqrt{x^{2} + y^{2}{\\left(x \\right)}} \\sqrt{\\frac{d}{d x} y{\\left(x \\right)} + 1}}{r_{0}}$"
            ],
            "text/plain": [
              "sqrt(x**2 + y(x)**2)*sqrt(Derivative(y(x), x) + 1)/r_0"
            ]
          },
          "execution_count": 5,
          "metadata": {},
          "output_type": "execute_result"
        }
      ],
      "source": [
        "L = n*smp.sqrt(1+dy)\n",
        "L"
      ]
    },
    {
      "cell_type": "code",
      "execution_count": 6,
      "metadata": {
        "colab": {
          "base_uri": "https://localhost:8080/",
          "height": 74
        },
        "id": "gQy_oaOSYnSU",
        "outputId": "c13cd13e-2bc3-4291-e198-d22e814f305c"
      },
      "outputs": [
        {
          "data": {
            "text/latex": [
              "$\\displaystyle \\frac{\\sqrt{\\frac{d}{d x} y{\\left(x \\right)} + 1} y{\\left(x \\right)}}{r_{0} \\sqrt{x^{2} + y^{2}{\\left(x \\right)}}}$"
            ],
            "text/plain": [
              "sqrt(Derivative(y(x), x) + 1)*y(x)/(r_0*sqrt(x**2 + y(x)**2))"
            ]
          },
          "execution_count": 6,
          "metadata": {},
          "output_type": "execute_result"
        }
      ],
      "source": [
        "dLdy = smp.diff(L, y)\n",
        "dLdy"
      ]
    },
    {
      "cell_type": "code",
      "execution_count": 7,
      "metadata": {
        "colab": {
          "base_uri": "https://localhost:8080/",
          "height": 74
        },
        "id": "aGyx2VfPYnSU",
        "outputId": "ec619ee9-9665-40b2-d6db-4ee6ae3e2bb3"
      },
      "outputs": [
        {
          "data": {
            "text/latex": [
              "$\\displaystyle \\frac{\\sqrt{x^{2} + y^{2}{\\left(x \\right)}}}{2 r_{0} \\sqrt{\\frac{d}{d x} y{\\left(x \\right)} + 1}}$"
            ],
            "text/plain": [
              "sqrt(x**2 + y(x)**2)/(2*r_0*sqrt(Derivative(y(x), x) + 1))"
            ]
          },
          "execution_count": 7,
          "metadata": {},
          "output_type": "execute_result"
        }
      ],
      "source": [
        "dLddy = smp.diff(L, dy)\n",
        "dLddy"
      ]
    },
    {
      "cell_type": "code",
      "execution_count": 8,
      "metadata": {
        "colab": {
          "base_uri": "https://localhost:8080/",
          "height": 76
        },
        "id": "GAOPeMI3YnSU",
        "outputId": "cf590950-f77a-4898-f88a-bae1ee7356d6"
      },
      "outputs": [
        {
          "data": {
            "text/latex": [
              "$\\displaystyle \\frac{x + y{\\left(x \\right)} \\frac{d}{d x} y{\\left(x \\right)}}{2 r_{0} \\sqrt{x^{2} + y^{2}{\\left(x \\right)}} \\sqrt{\\frac{d}{d x} y{\\left(x \\right)} + 1}} - \\frac{\\sqrt{x^{2} + y^{2}{\\left(x \\right)}} \\frac{d^{2}}{d x^{2}} y{\\left(x \\right)}}{4 r_{0} \\left(\\frac{d}{d x} y{\\left(x \\right)} + 1\\right)^{\\frac{3}{2}}}$"
            ],
            "text/plain": [
              "(x + y(x)*Derivative(y(x), x))/(2*r_0*sqrt(x**2 + y(x)**2)*sqrt(Derivative(y(x), x) + 1)) - sqrt(x**2 + y(x)**2)*Derivative(y(x), (x, 2))/(4*r_0*(Derivative(y(x), x) + 1)**(3/2))"
            ]
          },
          "execution_count": 8,
          "metadata": {},
          "output_type": "execute_result"
        }
      ],
      "source": [
        "dLddydx = smp.diff(dLddy, x)\n",
        "dLddydx"
      ]
    },
    {
      "cell_type": "code",
      "execution_count": 9,
      "metadata": {
        "colab": {
          "base_uri": "https://localhost:8080/",
          "height": 80
        },
        "id": "t6m5AVaxYnSV",
        "outputId": "aed5eb39-5b09-4963-cea7-4b15c9a57474"
      },
      "outputs": [
        {
          "data": {
            "text/latex": [
              "$\\displaystyle \\frac{\\sqrt{\\frac{d}{d x} y{\\left(x \\right)} + 1} y{\\left(x \\right)}}{r_{0} \\sqrt{x^{2} + y^{2}{\\left(x \\right)}}} = \\frac{2 \\left(x + y{\\left(x \\right)} \\frac{d}{d x} y{\\left(x \\right)}\\right) \\left(\\frac{d}{d x} y{\\left(x \\right)} + 1\\right) - \\left(x^{2} + y^{2}{\\left(x \\right)}\\right) \\frac{d^{2}}{d x^{2}} y{\\left(x \\right)}}{4 r_{0} \\sqrt{x^{2} + y^{2}{\\left(x \\right)}} \\left(\\frac{d}{d x} y{\\left(x \\right)} + 1\\right)^{\\frac{3}{2}}}$"
            ],
            "text/plain": [
              "Eq(sqrt(Derivative(y(x), x) + 1)*y(x)/(r_0*sqrt(x**2 + y(x)**2)), (2*(x + y(x)*Derivative(y(x), x))*(Derivative(y(x), x) + 1) - (x**2 + y(x)**2)*Derivative(y(x), (x, 2)))/(4*r_0*sqrt(x**2 + y(x)**2)*(Derivative(y(x), x) + 1)**(3/2)))"
            ]
          },
          "execution_count": 9,
          "metadata": {},
          "output_type": "execute_result"
        }
      ],
      "source": [
        "EL = smp.Eq(dLddydx, dLdy).simplify()\n",
        "EL"
      ]
    },
    {
      "cell_type": "code",
      "execution_count": 10,
      "metadata": {
        "colab": {
          "base_uri": "https://localhost:8080/"
        },
        "id": "kFoBszbWYnSV",
        "outputId": "bdae926e-8742-4e1b-9535-e042a5487c92"
      },
      "outputs": [
        {
          "data": {
            "text/plain": [
              "[2*(x*Derivative(y(x), x) + x - y(x)*Derivative(y(x), x)**2 - 3*y(x)*Derivative(y(x), x) - 2*y(x))/(x**2 + y(x)**2)]"
            ]
          },
          "execution_count": 10,
          "metadata": {},
          "output_type": "execute_result"
        }
      ],
      "source": [
        "sln = smp.solve(EL, d2y)\n",
        "sln"
      ]
    },
    {
      "cell_type": "code",
      "execution_count": 13,
      "metadata": {
        "colab": {
          "base_uri": "https://localhost:8080/"
        },
        "id": "ruvXsPCYYnSV",
        "outputId": "25c76100-dab2-4d6c-ef16-782e5423775c"
      },
      "outputs": [
        {
          "data": {
            "text/plain": [
              "[{A: -7/2, B: 125/36}]"
            ]
          },
          "execution_count": 13,
          "metadata": {},
          "output_type": "execute_result"
        }
      ],
      "source": [
        "a,b = smp.symbols('A,B')\n",
        "k=3\n",
        "EQ1 = smp.Eq(5**2, k**2 * b - (1 + a)**2)\n",
        "EQ2 = smp.Eq(5**2, k**2 * b - (6 + a)**2)\n",
        "\n",
        "smp.solve([EQ1, EQ2], (a,b), dict=True)\n"
      ]
    },
    {
      "cell_type": "code",
      "execution_count": 1,
      "metadata": {
        "colab": {
          "base_uri": "https://localhost:8080/",
          "height": 482
        },
        "id": "UC2wnfIvkbUM",
        "outputId": "af4f5b76-db1c-42aa-9909-3e512202f996"
      },
      "outputs": [
        {
          "data": {
            "image/png": "[encoded data removed]",
            "text/plain": [
              "<Figure size 640x480 with 1 Axes>"
            ]
          },
          "metadata": {},
          "output_type": "display_data"
        }
      ],
      "source": [
        "import numpy as np\n",
        "import matplotlib.pyplot as plt\n",
        "\n",
        "# Define the range of x values\n",
        "x = np.linspace(-10, 10, 400)\n",
        "\n",
        "# Define the parameters for the three hyperbolas\n",
        "A_values = [1, 2]  # Adjust the scale of the hyperbolas\n",
        "B_values = [2, 3]  # Adjust the horizontal shift of the hyperbolas\n",
        "colors = ('blue', 'red', 'green')\n",
        "points = [[[0,1.55],[1,6]], [[-0.6,5],[-1.1,2]]]  # Points and their coordinates\n",
        "\n",
        "# Plot each hyperbola\n",
        "for i in range(len(A_values)):\n",
        "    y = np.sqrt((B_values[i]-1)/B_values[i]) * np.sinh(A_values[i] * np.sqrt(B_values[i]) + np.sqrt(B_values[i]) * x)\n",
        "    plt.plot(x, y, label=f\"$y({points[i][0][0]})={points[i][0][1]}, y({points[i][1][0]}) = {points[i][1][1]}$\", color = colors[i])\n",
        "    plt.scatter([point[0] for point in points[i]], [point[1] for point in points[i]], color=colors[i])\n",
        "\n",
        "# Add labels and legend\n",
        "plt.xlabel(r'$x$')\n",
        "plt.ylabel(r'$y$')\n",
        "plt.ylim((-1, 10))\n",
        "plt.title(r'Trayectorias exponenciales $y= \\sqrt{\\frac{B-1}{B}} \\sinh(A \\sqrt{B} + \\sqrt{B} x)$')\n",
        "plt.legend()\n",
        "\n",
        "# Show the plot\n",
        "plt.grid(True)\n",
        "plt.axhline(0, color='black',linewidth=0.5)\n",
        "plt.axvline(0, color='black',linewidth=0.5)\n",
        "plt.show()"
      ]
    }
  ],
  "metadata": {
    "colab": {
      "provenance": []
    },
    "kernelspec": {
      "display_name": "Python 3",
      "language": "python",
      "name": "python3"
    },
    "language_info": {
      "codemirror_mode": {
        "name": "ipython",
        "version": 3
      },
      "file_extension": ".py",
      "mimetype": "text/x-python",
      "name": "python",
      "nbconvert_exporter": "python",
      "pygments_lexer": "ipython3",
      "version": "3.11.3"
    }
  },
  "nbformat": 4,
  "nbformat_minor": 0
}
