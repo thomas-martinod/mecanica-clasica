{
 "cells": [
  {
   "cell_type": "code",
   "execution_count": 78,
   "metadata": {},
   "outputs": [
    {
     "data": {
      "image/png": "[encoded data removed]",
      "text/latex": [
       "$\\displaystyle \\operatorname{K}\\left(r\\right)$"
      ],
      "text/plain": [
       "K(r)"
      ]
     },
     "execution_count": 78,
     "metadata": {},
     "output_type": "execute_result"
    }
   ],
   "source": [
    "import sympy as smp\n",
    "\n",
    "from sympy.physics.mechanics import *\n",
    "init_vprinting(pretty_print=True)\n",
    "\n",
    "r = smp.symbols('r')\n",
    "K, H = smp.symbols('K, H', cls=smp.Function)\n",
    "\n",
    "K = K(r)\n",
    "H = H(r)\n",
    "K"
   ]
  },
  {
   "cell_type": "code",
   "execution_count": 79,
   "metadata": {},
   "outputs": [
    {
     "data": {
      "image/png": "[encoded data removed]",
      "text/latex": [
       "$\\displaystyle \\frac{2 r}{\\operatorname{sinh}\\left(2 r\\right)}$"
      ],
      "text/plain": [
       "   2⋅r   \n",
       "─────────\n",
       "sinh(2⋅r)"
      ]
     },
     "execution_count": 79,
     "metadata": {},
     "output_type": "execute_result"
    }
   ],
   "source": [
    "dK = smp.diff(K, r)\n",
    "d2K = smp.diff(dK, r)\n",
    "\n",
    "dH = smp.diff(H, r)\n",
    "d2H = smp.diff(dH, r)\n",
    "\n",
    "funK = 2 * r / smp.sinh(2 * r)\n",
    "funK"
   ]
  },
  {
   "cell_type": "code",
   "execution_count": 80,
   "metadata": {},
   "outputs": [
    {
     "data": {
      "image/png": "[encoded data removed]",
      "text/latex": [
       "$\\displaystyle \\frac{d}{d r} K{\\left(r \\right)} = - 2 \\operatorname{H}\\left(r\\right) \\operatorname{K}\\left(r\\right)$"
      ],
      "text/plain": [
       "d                      \n",
       "──(K(r)) = -2⋅H(r)⋅K(r)\n",
       "dr                     "
      ]
     },
     "execution_count": 80,
     "metadata": {},
     "output_type": "execute_result"
    }
   ],
   "source": [
    "EDO1 = smp.Eq(dH, (1 - K**2)/(2*r**2))\n",
    "EDO2 = smp.Eq(dK, -2*H*K)\n",
    "\n",
    "EDO2"
   ]
  },
  {
   "cell_type": "code",
   "execution_count": 81,
   "metadata": {},
   "outputs": [
    {
     "data": {
      "image/png": "[encoded data removed]",
      "text/latex": [
       "$\\displaystyle \\frac{d^{2}}{d r^{2}} H{\\left(r \\right)} = - \\frac{\\operatorname{K}\\left(r\\right) \\frac{d}{d r} K{\\left(r \\right)}}{r^{2}} - \\frac{1 - \\operatorname{K}^{2}\\left(r\\right)}{r^{3}}$"
      ],
      "text/plain": [
       "                   d                   \n",
       "  2           K(r)⋅──(K(r))        2   \n",
       " d                 dr         1 - K (r)\n",
       "───(H(r)) = - ───────────── - ─────────\n",
       "  2                  2             3   \n",
       "dr                  r             r    "
      ]
     },
     "execution_count": 81,
     "metadata": {},
     "output_type": "execute_result"
    }
   ],
   "source": [
    "E3 = smp.Eq(smp.diff(EDO1.lhs, r), smp.diff(EDO1.rhs, r))\n",
    "E3"
   ]
  },
  {
   "cell_type": "code",
   "execution_count": 82,
   "metadata": {},
   "outputs": [
    {
     "data": {
      "image/png": "[encoded data removed]",
      "text/latex": [
       "$\\displaystyle \\frac{d^{2}}{d r^{2}} H{\\left(r \\right)} = \\frac{2 \\operatorname{H}\\left(r\\right) \\operatorname{K}^{2}\\left(r\\right)}{r^{2}} - \\frac{1 - \\operatorname{K}^{2}\\left(r\\right)}{r^{3}}$"
      ],
      "text/plain": [
       "  2                 2           2   \n",
       " d          2⋅H(r)⋅K (r)   1 - K (r)\n",
       "───(H(r)) = ──────────── - ─────────\n",
       "  2               2             3   \n",
       "dr               r             r    "
      ]
     },
     "execution_count": 82,
     "metadata": {},
     "output_type": "execute_result"
    }
   ],
   "source": [
    "E4 = E3.subs({dK : EDO2.rhs})\n",
    "E4"
   ]
  },
  {
   "cell_type": "code",
   "execution_count": 83,
   "metadata": {},
   "outputs": [
    {
     "data": {
      "image/png": "[encoded data removed]",
      "text/latex": [
       "$\\displaystyle \\frac{d}{d r} H{\\left(r \\right)} = \\frac{1 - \\operatorname{K}^{2}\\left(r\\right)}{2 r^{2}}$"
      ],
      "text/plain": [
       "                2   \n",
       "d          1 - K (r)\n",
       "──(H(r)) = ─────────\n",
       "dr               2  \n",
       "              2⋅r   "
      ]
     },
     "execution_count": 83,
     "metadata": {},
     "output_type": "execute_result"
    }
   ],
   "source": [
    "EDO1"
   ]
  },
  {
   "cell_type": "code",
   "execution_count": 84,
   "metadata": {},
   "outputs": [
    {
     "data": {
      "image/png": "[encoded data removed]",
      "text/latex": [
       "$\\displaystyle \\left\\{ \\operatorname{K}^{2}\\left(r\\right) : - 2 r^{2} \\frac{d}{d r} H{\\left(r \\right)} + 1\\right\\}$"
      ],
      "text/plain": [
       "⎧ 2          2 d           ⎫\n",
       "⎨K (r): - 2⋅r ⋅──(H(r)) + 1⎬\n",
       "⎩              dr          ⎭"
      ]
     },
     "execution_count": 84,
     "metadata": {},
     "output_type": "execute_result"
    }
   ],
   "source": [
    "sol = smp.solve([EDO1], (K**2))\n",
    "sol"
   ]
  },
  {
   "cell_type": "code",
   "execution_count": 86,
   "metadata": {},
   "outputs": [
    {
     "data": {
      "image/png": "[encoded data removed]",
      "text/latex": [
       "$\\displaystyle \\frac{d^{2}}{d r^{2}} H{\\left(r \\right)} = - 4 \\operatorname{H}\\left(r\\right) \\frac{d}{d r} H{\\left(r \\right)} - \\frac{2 \\frac{d}{d r} H{\\left(r \\right)}}{r} + \\frac{2 \\operatorname{H}\\left(r\\right)}{r^{2}}$"
      ],
      "text/plain": [
       "                                  d                \n",
       "  2                             2⋅──(H(r))         \n",
       " d                   d            dr         2⋅H(r)\n",
       "───(H(r)) = - 4⋅H(r)⋅──(H(r)) - ────────── + ──────\n",
       "  2                  dr             r           2  \n",
       "dr                                             r   "
      ]
     },
     "execution_count": 86,
     "metadata": {},
     "output_type": "execute_result"
    }
   ],
   "source": [
    "E5 = E4.subs(sol).expand().simplify()\n",
    "E5"
   ]
  },
  {
   "cell_type": "code",
   "execution_count": 91,
   "metadata": {},
   "outputs": [],
   "source": [
    "funH = smp.coth(2*r) - 1/(2*r)"
   ]
  },
  {
   "cell_type": "code",
   "execution_count": 102,
   "metadata": {},
   "outputs": [
    {
     "data": {
      "image/png": "[encoded data removed]",
      "text/latex": [
       "$\\displaystyle \\frac{d^{2}}{d r^{2}} H{\\left(r \\right)} = \\left(- 2 \\operatorname{H}\\left(r\\right) - \\frac{2}{r}\\right) \\frac{d}{d r} H{\\left(r \\right)} + \\left(- 2 \\frac{d}{d r} H{\\left(r \\right)} + \\frac{2}{r^{2}}\\right) \\operatorname{H}\\left(r\\right)$"
      ],
      "text/plain": [
       "  2                                                          \n",
       " d          ⎛          2⎞ d          ⎛    d          2 ⎞     \n",
       "───(H(r)) = ⎜-2⋅H(r) - ─⎟⋅──(H(r)) + ⎜- 2⋅──(H(r)) + ──⎟⋅H(r)\n",
       "  2         ⎝          r⎠ dr         ⎜    dr          2⎟     \n",
       "dr                                   ⎝               r ⎠     "
      ]
     },
     "execution_count": 102,
     "metadata": {},
     "output_type": "execute_result"
    }
   ],
   "source": [
    "c = smp.symbols('c')\n",
    "EQ6 = smp.Eq(dH, -2*H*(H + 1/r) + c)\n",
    "\n",
    "\n",
    "Eq7 = smp.Eq(smp.diff(EQ6.lhs, r), smp.diff(EQ6.rhs, r))\n",
    "Eq7"
   ]
  }
 ],
 "metadata": {
  "kernelspec": {
   "display_name": "Python 3",
   "language": "python",
   "name": "python3"
  },
  "language_info": {
   "codemirror_mode": {
    "name": "ipython",
    "version": 3
   },
   "file_extension": ".py",
   "mimetype": "text/x-python",
   "name": "python",
   "nbconvert_exporter": "python",
   "pygments_lexer": "ipython3",
   "version": "3.11.3"
  }
 },
 "nbformat": 4,
 "nbformat_minor": 2
}
