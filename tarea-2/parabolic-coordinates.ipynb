{
 "cells": [
  {
   "cell_type": "markdown",
   "metadata": {},
   "source": [
    "$$ x=\\sigma \\tau$$\n",
    "$$ y = \\frac{1}{2}(\\tau^2 - \\sigma^2)"
   ]
  },
  {
   "cell_type": "code",
   "execution_count": 169,
   "metadata": {},
   "outputs": [
    {
     "data": {
      "image/png": "[encoded data removed]",
      "text/latex": [
       "$\\displaystyle t$"
      ],
      "text/plain": [
       "t"
      ]
     },
     "execution_count": 169,
     "metadata": {},
     "output_type": "execute_result"
    }
   ],
   "source": [
    "import sympy as smp\n",
    "from sympy.physics.mechanics import *\n",
    "init_vprinting(pretty_print=True)\n",
    "\n",
    "t = smp.Symbol('t')\n",
    "e_t, e_s, ihat, jhat = smp.symbols('\\hat{\\mathbf{e}}_{T}, \\hat{\\mathbf{e}}_{\\sigma}, \\hat{\\mathbf{i}}, \\hat{\\mathbf{j}}', cls=smp.Function)\n",
    "\n",
    "t"
   ]
  },
  {
   "cell_type": "code",
   "execution_count": 170,
   "metadata": {},
   "outputs": [],
   "source": [
    "x, y, tau, sig = smp.symbols('x, y, tau, sigma', cls = smp.Function)\n",
    "x, y, tau, sig = x(t), y(t), tau(t), sig(t)\n",
    "e_t = e_t(tau, sig)\n",
    "e_s = e_s(tau, sig)\n",
    "ihat = ihat(tau, sig)\n",
    "jhat = jhat(tau, sig)\n",
    "\n",
    "Eqx = smp.Eq(x, sig*tau)\n",
    "Eqy = smp.Eq(y, smp.Rational(1,2)*(tau**2 - sig**2))"
   ]
  },
  {
   "cell_type": "code",
   "execution_count": 171,
   "metadata": {},
   "outputs": [],
   "source": [
    "r_cartesian = smp.Matrix([x,y])\n",
    "r_cartesian_st = r_cartesian.subs({x: Eqx.rhs, y: Eqy.rhs})"
   ]
  },
  {
   "cell_type": "markdown",
   "metadata": {},
   "source": [
    "$$h_i = \\left|\\frac{\\partial \\mathbf{r}}{\\partial u_i}\\right|$$"
   ]
  },
  {
   "cell_type": "code",
   "execution_count": 172,
   "metadata": {},
   "outputs": [
    {
     "data": {
      "image/png": "[encoded data removed]",
      "text/latex": [
       "$\\displaystyle \\left[\\begin{matrix}\\tau\\\\- \\sigma\\end{matrix}\\right]$"
      ],
      "text/plain": [
       "⎡τ ⎤\n",
       "⎢  ⎥\n",
       "⎣-σ⎦"
      ]
     },
     "execution_count": 172,
     "metadata": {},
     "output_type": "execute_result"
    }
   ],
   "source": [
    "drdtau = r_cartesian_st.diff(tau)\n",
    "drdsig = r_cartesian_st.diff(sig)\n",
    "drdsig"
   ]
  },
  {
   "cell_type": "code",
   "execution_count": 173,
   "metadata": {},
   "outputs": [
    {
     "data": {
      "image/png": "[encoded data removed]",
      "text/latex": [
       "$\\displaystyle \\sqrt{\\sigma^{2} + \\tau^{2}}$"
      ],
      "text/plain": [
       "   _________\n",
       "  ╱  2    2 \n",
       "╲╱  σ  + τ  "
      ]
     },
     "execution_count": 173,
     "metadata": {},
     "output_type": "execute_result"
    }
   ],
   "source": [
    "h_tau = smp.sqrt((drdtau.T * drdtau)[0])\n",
    "h_tau"
   ]
  },
  {
   "cell_type": "code",
   "execution_count": 174,
   "metadata": {},
   "outputs": [
    {
     "data": {
      "image/png": "[encoded data removed]",
      "text/latex": [
       "$\\displaystyle \\sqrt{\\sigma^{2} + \\tau^{2}}$"
      ],
      "text/plain": [
       "   _________\n",
       "  ╱  2    2 \n",
       "╲╱  σ  + τ  "
      ]
     },
     "execution_count": 174,
     "metadata": {},
     "output_type": "execute_result"
    }
   ],
   "source": [
    "h_sig = smp.sqrt((drdsig.T * drdsig)[0])\n",
    "h_sig"
   ]
  },
  {
   "cell_type": "markdown",
   "metadata": {},
   "source": [
    "$$\\hat{\\mathbf{e}}_i = \\frac{1}{h_i} \\frac{\\partial \\mathbf{r}}{\\partial u_i}$$"
   ]
  },
  {
   "cell_type": "code",
   "execution_count": 175,
   "metadata": {},
   "outputs": [
    {
     "data": {
      "image/png": "[encoded data removed]",
      "text/latex": [
       "$\\displaystyle \\left[\\begin{matrix}\\frac{\\sigma}{\\sqrt{\\sigma^{2} + \\tau^{2}}}\\\\\\frac{\\tau}{\\sqrt{\\sigma^{2} + \\tau^{2}}}\\end{matrix}\\right]$"
      ],
      "text/plain": [
       "⎡     σ      ⎤\n",
       "⎢────────────⎥\n",
       "⎢   _________⎥\n",
       "⎢  ╱  2    2 ⎥\n",
       "⎢╲╱  σ  + τ  ⎥\n",
       "⎢            ⎥\n",
       "⎢     τ      ⎥\n",
       "⎢────────────⎥\n",
       "⎢   _________⎥\n",
       "⎢  ╱  2    2 ⎥\n",
       "⎣╲╱  σ  + τ  ⎦"
      ]
     },
     "execution_count": 175,
     "metadata": {},
     "output_type": "execute_result"
    }
   ],
   "source": [
    "e_tau = drdtau / h_tau\n",
    "e_tau"
   ]
  },
  {
   "cell_type": "code",
   "execution_count": 176,
   "metadata": {},
   "outputs": [
    {
     "data": {
      "image/png": "[encoded data removed]",
      "text/latex": [
       "$\\displaystyle \\left[\\begin{matrix}\\frac{\\tau}{\\sqrt{\\sigma^{2} + \\tau^{2}}}\\\\- \\frac{\\sigma}{\\sqrt{\\sigma^{2} + \\tau^{2}}}\\end{matrix}\\right]$"
      ],
      "text/plain": [
       "⎡     τ      ⎤\n",
       "⎢────────────⎥\n",
       "⎢   _________⎥\n",
       "⎢  ╱  2    2 ⎥\n",
       "⎢╲╱  σ  + τ  ⎥\n",
       "⎢            ⎥\n",
       "⎢    -σ      ⎥\n",
       "⎢────────────⎥\n",
       "⎢   _________⎥\n",
       "⎢  ╱  2    2 ⎥\n",
       "⎣╲╱  σ  + τ  ⎦"
      ]
     },
     "execution_count": 176,
     "metadata": {},
     "output_type": "execute_result"
    }
   ],
   "source": [
    "e_sig = drdsig / h_sig\n",
    "e_sig"
   ]
  },
  {
   "cell_type": "code",
   "execution_count": 177,
   "metadata": {},
   "outputs": [
    {
     "data": {
      "image/png": "[encoded data removed]",
      "text/latex": [
       "$\\displaystyle \\operatorname{\\hat{\\mathbf{e}}_{T}}\\left(\\tau,\\sigma\\right) = \\frac{\\operatorname{\\hat{\\mathbf{i}}}\\left(\\tau,\\sigma\\right) \\sigma}{\\sqrt{\\sigma^{2} + \\tau^{2}}} + \\frac{\\operatorname{\\hat{\\mathbf{j}}}\\left(\\tau,\\sigma\\right) \\tau}{\\sqrt{\\sigma^{2} + \\tau^{2}}}$"
      ],
      "text/plain": [
       "                             \\hat{\\mathbf{i}}(τ, σ)⋅σ   \\hat{\\mathbf{j}}(τ, σ)\n",
       "\\hat{\\mathbf{e}}_{T}(τ, σ) = ──────────────────────── + ──────────────────────\n",
       "                                      _________                  _________    \n",
       "                                     ╱  2    2                  ╱  2    2     \n",
       "                                   ╲╱  σ  + τ                 ╲╱  σ  + τ      \n",
       "\n",
       "⋅τ\n",
       "──\n",
       "  \n",
       "  \n",
       "  "
      ]
     },
     "execution_count": 177,
     "metadata": {},
     "output_type": "execute_result"
    }
   ],
   "source": [
    "Eq1 = smp.Eq(e_t, ihat * e_tau[0] + jhat * e_tau[1])\n",
    "Eq1"
   ]
  },
  {
   "cell_type": "code",
   "execution_count": 178,
   "metadata": {},
   "outputs": [
    {
     "data": {
      "image/png": "[encoded data removed]",
      "text/latex": [
       "$\\displaystyle \\operatorname{\\hat{\\mathbf{e}}_{\\sigma}}\\left(\\tau,\\sigma\\right) = \\frac{\\operatorname{\\hat{\\mathbf{i}}}\\left(\\tau,\\sigma\\right) \\tau}{\\sqrt{\\sigma^{2} + \\tau^{2}}} - \\frac{\\operatorname{\\hat{\\mathbf{j}}}\\left(\\tau,\\sigma\\right) \\sigma}{\\sqrt{\\sigma^{2} + \\tau^{2}}}$"
      ],
      "text/plain": [
       "                                  \\hat{\\mathbf{i}}(τ, σ)⋅τ   \\hat{\\mathbf{j}}(\n",
       "\\hat{\\mathbf{e}}_{\\sigma}(τ, σ) = ──────────────────────── - ─────────────────\n",
       "                                           _________                  ________\n",
       "                                          ╱  2    2                  ╱  2    2\n",
       "                                        ╲╱  σ  + τ                 ╲╱  σ  + τ \n",
       "\n",
       "τ, σ)⋅σ\n",
       "───────\n",
       "_      \n",
       "       \n",
       "       "
      ]
     },
     "execution_count": 178,
     "metadata": {},
     "output_type": "execute_result"
    }
   ],
   "source": [
    "Eq2 = smp.Eq(e_s, ihat * e_sig[0] + jhat * e_sig[1])\n",
    "Eq2"
   ]
  },
  {
   "cell_type": "code",
   "execution_count": 179,
   "metadata": {},
   "outputs": [
    {
     "data": {
      "image/png": "[encoded data removed]",
      "text/latex": [
       "$\\displaystyle \\left\\{ \\operatorname{\\hat{\\mathbf{i}}}\\left(\\tau,\\sigma\\right) : \\frac{\\operatorname{\\hat{\\mathbf{e}}_{T}}\\left(\\tau,\\sigma\\right) \\sigma + \\operatorname{\\hat{\\mathbf{e}}_{\\sigma}}\\left(\\tau,\\sigma\\right) \\tau}{\\sqrt{\\sigma^{2} + \\tau^{2}}}, \\  \\operatorname{\\hat{\\mathbf{j}}}\\left(\\tau,\\sigma\\right) : \\frac{\\operatorname{\\hat{\\mathbf{e}}_{T}}\\left(\\tau,\\sigma\\right) \\tau - \\operatorname{\\hat{\\mathbf{e}}_{\\sigma}}\\left(\\tau,\\sigma\\right) \\sigma}{\\sqrt{\\sigma^{2} + \\tau^{2}}}\\right\\}$"
      ],
      "text/plain": [
       "⎧                        \\hat{\\mathbf{e}}_{T}(τ, σ)⋅σ + \\hat{\\mathbf{e}}_{\\sig\n",
       "⎪\\hat{\\mathbf{i}}(τ, σ): ─────────────────────────────────────────────────────\n",
       "⎨                                                     _________               \n",
       "⎪                                                    ╱  2    2                \n",
       "⎩                                                  ╲╱  σ  + τ                 \n",
       "\n",
       "ma}(τ, σ)⋅τ                          \\hat{\\mathbf{e}}_{T}(τ, σ)⋅τ - \\hat{\\math\n",
       "───────────, \\hat{\\mathbf{j}}(τ, σ): ─────────────────────────────────────────\n",
       "                                                                  _________   \n",
       "                                                                 ╱  2    2    \n",
       "                                                               ╲╱  σ  + τ     \n",
       "\n",
       "bf{e}}_{\\sigma}(τ, σ)⋅σ⎫\n",
       "───────────────────────⎪\n",
       "                       ⎬\n",
       "                       ⎪\n",
       "                       ⎭"
      ]
     },
     "execution_count": 179,
     "metadata": {},
     "output_type": "execute_result"
    }
   ],
   "source": [
    "sln = smp.solve([Eq1, Eq2], (ihat, jhat))\n",
    "sln"
   ]
  },
  {
   "cell_type": "code",
   "execution_count": 180,
   "metadata": {},
   "outputs": [
    {
     "data": {
      "image/png": "[encoded data removed]",
      "text/latex": [
       "$\\displaystyle \\frac{\\left(\\operatorname{\\hat{\\mathbf{e}}_{T}}\\left(\\tau,\\sigma\\right) \\tau + \\operatorname{\\hat{\\mathbf{e}}_{\\sigma}}\\left(\\tau,\\sigma\\right) \\sigma\\right) \\sqrt{\\sigma^{2} + \\tau^{2}}}{2}$"
      ],
      "text/plain": [
       "                                                                      ________\n",
       "                                                                     ╱  2    2\n",
       "(\\hat{\\mathbf{e}}_{T}(τ, σ)⋅τ + \\hat{\\mathbf{e}}_{\\sigma}(τ, σ)⋅σ)⋅╲╱  σ  + τ \n",
       "──────────────────────────────────────────────────────────────────────────────\n",
       "                                       2                                      \n",
       "\n",
       "_\n",
       " \n",
       " \n",
       "─\n",
       " "
      ]
     },
     "execution_count": 180,
     "metadata": {},
     "output_type": "execute_result"
    }
   ],
   "source": [
    "r_cartesian_ij = ihat*r_cartesian_st[0] + jhat*r_cartesian_st[1]\n",
    "r_parabolic = r_cartesian_ij.subs(sln).factor()\n",
    "r_parabolic"
   ]
  },
  {
   "cell_type": "code",
   "execution_count": 189,
   "metadata": {},
   "outputs": [
    {
     "data": {
      "image/png": "[encoded data removed]",
      "text/latex": [
       "$\\displaystyle \\frac{\\left(\\sigma^{2} \\dot{\\sigma} + \\tau^{2} \\dot{\\sigma}\\right) \\operatorname{\\hat{\\mathbf{e}}_{\\sigma}}\\left(\\tau,\\sigma\\right) + \\left(\\sigma^{2} \\dot{\\tau} + \\tau^{2} \\dot{\\tau}\\right) \\operatorname{\\hat{\\mathbf{e}}_{T}}\\left(\\tau,\\sigma\\right)}{\\sqrt{\\sigma^{2} + \\tau^{2}}}$"
      ],
      "text/plain": [
       "⎛ 2      2  ⎞                                   ⎛ 2      2  ⎞                 \n",
       "⎝σ ⋅σ̇ + τ ⋅σ̇⎠⋅\\hat{\\mathbf{e}}_{\\sigma}(τ, σ) + ⎝σ ⋅τ̇ + τ ⋅τ̇⎠⋅\\hat{\\mathbf\n",
       "──────────────────────────────────────────────────────────────────────────────\n",
       "                                         _________                            \n",
       "                                        ╱  2    2                             \n",
       "                                      ╲╱  σ  + τ                              \n",
       "\n",
       "          \n",
       "{e}}_{T}(τ, σ)\n",
       "──────────\n",
       "          \n",
       "          \n",
       "          "
      ]
     },
     "execution_count": 189,
     "metadata": {},
     "output_type": "execute_result"
    }
   ],
   "source": [
    "partialderivatives = {smp.diff(e_t, sig): e_s * tau / (tau**2 + sig**2), smp.diff(e_t, tau): -e_s * sig / (tau**2 + sig**2),\n",
    "                      smp.diff(e_s, sig): -e_t * tau / (tau**2 + sig**2), smp.diff(e_s, tau): e_t * sig / (tau**2 + sig**2)}\n",
    "v_parabolic = smp.diff(r_parabolic, t).subs(partialderivatives).simplify().factor(e_t, e_s)\n",
    "v_parabolic"
   ]
  },
  {
   "cell_type": "code",
   "execution_count": 192,
   "metadata": {},
   "outputs": [
    {
     "data": {
      "image/png": "[encoded data removed]",
      "text/latex": [
       "$\\displaystyle \\frac{\\left(\\sigma^{2} \\ddot{\\sigma} + \\sigma \\dot{\\sigma}^{2} - \\sigma \\dot{\\tau}^{2} + \\tau^{2} \\ddot{\\sigma} + 2 \\tau \\dot{\\sigma} \\dot{\\tau}\\right) \\operatorname{\\hat{\\mathbf{e}}_{\\sigma}}\\left(\\tau,\\sigma\\right) + \\left(\\sigma^{2} \\ddot{\\tau} + 2 \\sigma \\dot{\\sigma} \\dot{\\tau} + \\tau^{2} \\ddot{\\tau} - \\tau \\dot{\\sigma}^{2} + \\tau \\dot{\\tau}^{2}\\right) \\operatorname{\\hat{\\mathbf{e}}_{T}}\\left(\\tau,\\sigma\\right)}{\\sqrt{\\sigma^{2} + \\tau^{2}}}$"
      ],
      "text/plain": [
       "⎛ 2        2      2    2            ⎞                                   ⎛ 2   \n",
       "⎝σ ⋅σ̈ + σ⋅σ̇  - σ⋅τ̇  + τ ⋅σ̈ + 2⋅τ⋅σ̇⋅τ̇⎠⋅\\hat{\\mathbf{e}}_{\\sigma}(τ, σ) + \n",
       "──────────────────────────────────────────────────────────────────────────────\n",
       "                                                                 _________    \n",
       "                                                                ╱  2    2     \n",
       "                                                              ╲╱  σ  + τ      \n",
       "\n",
       "             2        2      2⎞                           \n",
       "⎝σ ⋅τ̈ + 2⋅σ⋅σ̇⋅τ̇ + τ ⋅τ̈ - τ⋅σ̇  + τ⋅τ̇ ⎠⋅\\hat{\\mathbf{e}}_{T}(τ, σ)\n",
       "──────────────────────────────────────────────────────────\n",
       "                                                          \n",
       "                                                          \n",
       "                                                          "
      ]
     },
     "execution_count": 192,
     "metadata": {},
     "output_type": "execute_result"
    }
   ],
   "source": [
    "a_parabolic = smp.diff(v_parabolic, t).subs(partialderivatives).simplify().factor(e_t, e_s)\n",
    "a_parabolic"
   ]
  },
  {
   "cell_type": "code",
   "execution_count": null,
   "metadata": {},
   "outputs": [],
   "source": []
  }
 ],
 "metadata": {
  "kernelspec": {
   "display_name": "Python 3",
   "language": "python",
   "name": "python3"
  },
  "language_info": {
   "codemirror_mode": {
    "name": "ipython",
    "version": 3
   },
   "file_extension": ".py",
   "mimetype": "text/x-python",
   "name": "python",
   "nbconvert_exporter": "python",
   "pygments_lexer": "ipython3",
   "version": "3.11.3"
  }
 },
 "nbformat": 4,
 "nbformat_minor": 2
}
