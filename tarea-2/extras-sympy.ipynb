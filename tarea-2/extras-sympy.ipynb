{
 "cells": [
  {
   "cell_type": "markdown",
   "metadata": {},
   "source": [
    "$$ x=\\sigma \\tau$$\n",
    "$$ y = \\frac{1}{2}(\\tau^2 - \\sigma^2)"
   ]
  },
  {
   "cell_type": "code",
   "execution_count": 1,
   "metadata": {},
   "outputs": [
    {
     "data": {
      "text/plain": [
       "\\hat{\\mathbf{e}}_{\\tau}"
      ]
     },
     "execution_count": 1,
     "metadata": {},
     "output_type": "execute_result"
    }
   ],
   "source": [
    "import sympy as smp\n",
    "from sympy.physics.mechanics import *\n",
    "init_vprinting(pretty_print=True)\n",
    "\n",
    "t = smp.Symbol('t')\n",
    "e_t, e_s, ihat, jhat = smp.symbols(r'\\hat{\\mathbf{e}}_{\\tau}, \\hat{\\mathbf{e}}_{\\sigma}, \\hat{\\mathbf{i}}, \\hat{\\mathbf{j}}', cls=smp.Function)"
   ]
  },
  {
   "cell_type": "code",
   "execution_count": 64,
   "metadata": {},
   "outputs": [],
   "source": [
    "x, y, tau, sig = smp.symbols('x, y, tau, sigma', cls = smp.Function)\n",
    "x, y, tau, sig = x(t), y(t), tau(t), sig(t)"
   ]
  },
  {
   "cell_type": "code",
   "execution_count": 65,
   "metadata": {},
   "outputs": [
    {
     "data": {
      "image/png": "[encoded data removed]",
      "text/latex": [
       "$\\displaystyle \\operatorname{\\hat{\\mathbf{e}}_{\\tau}}\\left(\\tau,\\sigma\\right)$"
      ],
      "text/plain": [
       "\\hat{\\mathbf{e}}_{\\tau}(τ, σ)"
      ]
     },
     "metadata": {},
     "output_type": "display_data"
    },
    {
     "data": {
      "image/png": "[encoded data removed]",
      "text/latex": [
       "$\\displaystyle \\operatorname{\\hat{\\mathbf{e}}_{\\sigma}}\\left(\\tau,\\sigma\\right)$"
      ],
      "text/plain": [
       "\\hat{\\mathbf{e}}_{\\sigma}(τ, σ)"
      ]
     },
     "metadata": {},
     "output_type": "display_data"
    }
   ],
   "source": [
    "e_t = e_t(tau, sig)\n",
    "e_s = e_s(tau, sig)\n",
    "ihat = ihat(tau, sig)\n",
    "jhat = jhat(tau, sig)\n",
    "\n",
    "display(e_t, e_s)"
   ]
  },
  {
   "cell_type": "code",
   "execution_count": 67,
   "metadata": {},
   "outputs": [
    {
     "data": {
      "image/png": "[encoded data removed]",
      "text/latex": [
       "$\\displaystyle x = \\sigma \\tau$"
      ],
      "text/plain": [
       "x = σ⋅τ"
      ]
     },
     "metadata": {},
     "output_type": "display_data"
    },
    {
     "data": {
      "image/png": "[encoded data removed]",
      "text/latex": [
       "$\\displaystyle y = - \\frac{\\sigma^{2}}{2} + \\frac{\\tau^{2}}{2}$"
      ],
      "text/plain": [
       "       2    2\n",
       "      σ    τ \n",
       "y = - ── + ──\n",
       "      2    2 "
      ]
     },
     "metadata": {},
     "output_type": "display_data"
    }
   ],
   "source": [
    "Eqx = smp.Eq(x, sig*tau)\n",
    "Eqy = smp.Eq(y, smp.Rational(1,2)*(tau**2 - sig**2))\n",
    "display(Eqx, Eqy)"
   ]
  },
  {
   "cell_type": "code",
   "execution_count": 80,
   "metadata": {},
   "outputs": [
    {
     "data": {
      "image/png": "[encoded data removed]",
      "text/latex": [
       "$\\displaystyle \\left[\\begin{matrix}\\sigma \\tau\\\\- \\frac{\\sigma^{2}}{2} + \\frac{\\tau^{2}}{2}\\end{matrix}\\right]$"
      ],
      "text/plain": [
       "⎡   σ⋅τ   ⎤\n",
       "⎢         ⎥\n",
       "⎢   2    2⎥\n",
       "⎢  σ    τ ⎥\n",
       "⎢- ── + ──⎥\n",
       "⎣  2    2 ⎦"
      ]
     },
     "execution_count": 80,
     "metadata": {},
     "output_type": "execute_result"
    }
   ],
   "source": [
    "r_cartesian = smp.Matrix([x,y])\n",
    "r_cartesian_st = r_cartesian.subs({x: Eqx.rhs, y: Eqy.rhs})\n",
    "r_cartesian_st"
   ]
  },
  {
   "cell_type": "markdown",
   "metadata": {},
   "source": [
    "$$h_i = \\left|\\frac{\\partial \\mathbf{r}}{\\partial u_i}\\right|$$"
   ]
  },
  {
   "cell_type": "code",
   "execution_count": 73,
   "metadata": {},
   "outputs": [
    {
     "data": {
      "image/png": "[encoded data removed]",
      "text/latex": [
       "$\\displaystyle \\left[\\begin{matrix}\\sigma\\\\\\tau\\end{matrix}\\right]$"
      ],
      "text/plain": [
       "⎡σ⎤\n",
       "⎢ ⎥\n",
       "⎣τ⎦"
      ]
     },
     "execution_count": 73,
     "metadata": {},
     "output_type": "execute_result"
    }
   ],
   "source": [
    "drdtau = r_cartesian_st.diff(tau)\n",
    "drdtau"
   ]
  },
  {
   "cell_type": "code",
   "execution_count": 74,
   "metadata": {},
   "outputs": [
    {
     "data": {
      "image/png": "[encoded data removed]",
      "text/latex": [
       "$\\displaystyle \\left[\\begin{matrix}\\tau\\\\- \\sigma\\end{matrix}\\right]$"
      ],
      "text/plain": [
       "⎡τ ⎤\n",
       "⎢  ⎥\n",
       "⎣-σ⎦"
      ]
     },
     "execution_count": 74,
     "metadata": {},
     "output_type": "execute_result"
    }
   ],
   "source": [
    "drdsig = r_cartesian_st.diff(sig)\n",
    "drdsig"
   ]
  },
  {
   "cell_type": "code",
   "execution_count": 75,
   "metadata": {},
   "outputs": [
    {
     "data": {
      "image/png": "[encoded data removed]",
      "text/latex": [
       "$\\displaystyle \\sqrt{\\sigma^{2} + \\tau^{2}}$"
      ],
      "text/plain": [
       "   _________\n",
       "  ╱  2    2 \n",
       "╲╱  σ  + τ  "
      ]
     },
     "execution_count": 75,
     "metadata": {},
     "output_type": "execute_result"
    }
   ],
   "source": [
    "h_tau = smp.sqrt((drdtau.T * drdtau)[0])\n",
    "h_tau"
   ]
  },
  {
   "cell_type": "code",
   "execution_count": 76,
   "metadata": {},
   "outputs": [
    {
     "data": {
      "image/png": "[encoded data removed]",
      "text/latex": [
       "$\\displaystyle \\sqrt{\\sigma^{2} + \\tau^{2}}$"
      ],
      "text/plain": [
       "   _________\n",
       "  ╱  2    2 \n",
       "╲╱  σ  + τ  "
      ]
     },
     "execution_count": 76,
     "metadata": {},
     "output_type": "execute_result"
    }
   ],
   "source": [
    "h_sig = smp.sqrt((drdsig.T * drdsig)[0])\n",
    "h_sig"
   ]
  },
  {
   "cell_type": "markdown",
   "metadata": {},
   "source": [
    "$$\\hat{\\mathbf{e}}_i = \\frac{1}{h_i} \\frac{\\partial \\mathbf{r}}{\\partial u_i}$$"
   ]
  },
  {
   "cell_type": "code",
   "execution_count": 77,
   "metadata": {},
   "outputs": [
    {
     "data": {
      "image/png": "[encoded data removed]",
      "text/latex": [
       "$\\displaystyle \\left[\\begin{matrix}\\frac{\\sigma}{\\sqrt{\\sigma^{2} + \\tau^{2}}}\\\\\\frac{\\tau}{\\sqrt{\\sigma^{2} + \\tau^{2}}}\\end{matrix}\\right]$"
      ],
      "text/plain": [
       "⎡     σ      ⎤\n",
       "⎢────────────⎥\n",
       "⎢   _________⎥\n",
       "⎢  ╱  2    2 ⎥\n",
       "⎢╲╱  σ  + τ  ⎥\n",
       "⎢            ⎥\n",
       "⎢     τ      ⎥\n",
       "⎢────────────⎥\n",
       "⎢   _________⎥\n",
       "⎢  ╱  2    2 ⎥\n",
       "⎣╲╱  σ  + τ  ⎦"
      ]
     },
     "execution_count": 77,
     "metadata": {},
     "output_type": "execute_result"
    }
   ],
   "source": [
    "e_tau = drdtau / h_tau\n",
    "e_tau"
   ]
  },
  {
   "cell_type": "code",
   "execution_count": 53,
   "metadata": {},
   "outputs": [
    {
     "data": {
      "image/png": "[encoded data removed]",
      "text/latex": [
       "$\\displaystyle \\left[\\begin{matrix}\\frac{\\tau}{\\sqrt{\\sigma^{2} + \\tau^{2}}}\\\\- \\frac{\\sigma}{\\sqrt{\\sigma^{2} + \\tau^{2}}}\\end{matrix}\\right]$"
      ],
      "text/plain": [
       "⎡     τ      ⎤\n",
       "⎢────────────⎥\n",
       "⎢   _________⎥\n",
       "⎢  ╱  2    2 ⎥\n",
       "⎢╲╱  σ  + τ  ⎥\n",
       "⎢            ⎥\n",
       "⎢    -σ      ⎥\n",
       "⎢────────────⎥\n",
       "⎢   _________⎥\n",
       "⎢  ╱  2    2 ⎥\n",
       "⎣╲╱  σ  + τ  ⎦"
      ]
     },
     "execution_count": 53,
     "metadata": {},
     "output_type": "execute_result"
    }
   ],
   "source": [
    "e_sig = drdsig / h_sig\n",
    "e_sig"
   ]
  },
  {
   "cell_type": "code",
   "execution_count": 54,
   "metadata": {},
   "outputs": [
    {
     "data": {
      "image/png": "[encoded data removed]",
      "text/latex": [
       "$\\displaystyle \\operatorname{\\hat{\\mathbf{e}}_{\\tau}}\\left(\\tau,\\sigma\\right) = \\frac{\\operatorname{\\hat{\\mathbf{i}}}\\left(\\tau,\\sigma\\right) \\sigma}{\\sqrt{\\sigma^{2} + \\tau^{2}}} + \\frac{\\operatorname{\\hat{\\mathbf{j}}}\\left(\\tau,\\sigma\\right) \\tau}{\\sqrt{\\sigma^{2} + \\tau^{2}}}$"
      ],
      "text/plain": [
       "                                \\hat{\\mathbf{i}}(τ, σ)⋅σ   \\hat{\\mathbf{j}}(τ,\n",
       "\\hat{\\mathbf{e}}_{\\tau}(τ, σ) = ──────────────────────── + ───────────────────\n",
       "                                         _________                  _________ \n",
       "                                        ╱  2    2                  ╱  2    2  \n",
       "                                      ╲╱  σ  + τ                 ╲╱  σ  + τ   \n",
       "\n",
       " σ)⋅τ\n",
       "─────\n",
       "     \n",
       "     \n",
       "     "
      ]
     },
     "execution_count": 54,
     "metadata": {},
     "output_type": "execute_result"
    }
   ],
   "source": [
    "Eq1 = smp.Eq(e_t, ihat * e_tau[0] + jhat * e_tau[1])\n",
    "Eq1"
   ]
  },
  {
   "cell_type": "code",
   "execution_count": 55,
   "metadata": {},
   "outputs": [
    {
     "data": {
      "image/png": "[encoded data removed]",
      "text/latex": [
       "$\\displaystyle \\operatorname{\\hat{\\mathbf{e}}_{\\sigma}}\\left(\\tau,\\sigma\\right) = \\frac{\\operatorname{\\hat{\\mathbf{i}}}\\left(\\tau,\\sigma\\right) \\tau}{\\sqrt{\\sigma^{2} + \\tau^{2}}} - \\frac{\\operatorname{\\hat{\\mathbf{j}}}\\left(\\tau,\\sigma\\right) \\sigma}{\\sqrt{\\sigma^{2} + \\tau^{2}}}$"
      ],
      "text/plain": [
       "                                  \\hat{\\mathbf{i}}(τ, σ)⋅τ   \\hat{\\mathbf{j}}(\n",
       "\\hat{\\mathbf{e}}_{\\sigma}(τ, σ) = ──────────────────────── - ─────────────────\n",
       "                                           _________                  ________\n",
       "                                          ╱  2    2                  ╱  2    2\n",
       "                                        ╲╱  σ  + τ                 ╲╱  σ  + τ \n",
       "\n",
       "τ, σ)⋅σ\n",
       "───────\n",
       "_      \n",
       "       \n",
       "       "
      ]
     },
     "execution_count": 55,
     "metadata": {},
     "output_type": "execute_result"
    }
   ],
   "source": [
    "Eq2 = smp.Eq(e_s, ihat * e_sig[0] + jhat * e_sig[1])\n",
    "Eq2"
   ]
  },
  {
   "cell_type": "code",
   "execution_count": 56,
   "metadata": {},
   "outputs": [
    {
     "data": {
      "image/png": "[encoded data removed]",
      "text/latex": [
       "$\\displaystyle \\left\\{ \\operatorname{\\hat{\\mathbf{i}}}\\left(\\tau,\\sigma\\right) : \\frac{\\operatorname{\\hat{\\mathbf{e}}_{\\sigma}}\\left(\\tau,\\sigma\\right) \\tau + \\operatorname{\\hat{\\mathbf{e}}_{\\tau}}\\left(\\tau,\\sigma\\right) \\sigma}{\\sqrt{\\sigma^{2} + \\tau^{2}}}, \\  \\operatorname{\\hat{\\mathbf{j}}}\\left(\\tau,\\sigma\\right) : \\frac{- \\operatorname{\\hat{\\mathbf{e}}_{\\sigma}}\\left(\\tau,\\sigma\\right) \\sigma + \\operatorname{\\hat{\\mathbf{e}}_{\\tau}}\\left(\\tau,\\sigma\\right) \\tau}{\\sqrt{\\sigma^{2} + \\tau^{2}}}\\right\\}$"
      ],
      "text/plain": [
       "⎧                        \\hat{\\mathbf{e}}_{\\sigma}(τ, σ)⋅τ + \\hat{\\mathbf{e}}_\n",
       "⎪\\hat{\\mathbf{i}}(τ, σ): ─────────────────────────────────────────────────────\n",
       "⎨                                                       _________             \n",
       "⎪                                                      ╱  2    2              \n",
       "⎩                                                    ╲╱  σ  + τ               \n",
       "\n",
       "{\\tau}(τ, σ)⋅σ                          -\\hat{\\mathbf{e}}_{\\sigma}(τ, σ)⋅σ + \\\n",
       "──────────────, \\hat{\\mathbf{j}}(τ, σ): ──────────────────────────────────────\n",
       "                                                                       _______\n",
       "                                                                      ╱  2    \n",
       "                                                                    ╲╱  σ  + τ\n",
       "\n",
       "hat{\\mathbf{e}}_{\\tau}(τ, σ)⋅τ⎫\n",
       "──────────────────────────────⎪\n",
       "__                            ⎬\n",
       "2                             ⎪\n",
       "                              ⎭"
      ]
     },
     "execution_count": 56,
     "metadata": {},
     "output_type": "execute_result"
    }
   ],
   "source": [
    "sln = smp.solve([Eq1, Eq2], (ihat, jhat))\n",
    "sln"
   ]
  },
  {
   "cell_type": "code",
   "execution_count": 79,
   "metadata": {},
   "outputs": [
    {
     "data": {
      "image/png": "[encoded data removed]",
      "text/latex": [
       "$\\displaystyle \\left(- \\frac{\\sigma^{2}}{2} + \\frac{\\tau^{2}}{2}\\right) \\operatorname{\\hat{\\mathbf{j}}}\\left(\\tau,\\sigma\\right) + \\operatorname{\\hat{\\mathbf{i}}}\\left(\\tau,\\sigma\\right) \\sigma \\tau$"
      ],
      "text/plain": [
       "⎛   2    2⎞                                                    \n",
       "⎜  σ    τ ⎟                                                    \n",
       "⎜- ── + ──⎟⋅\\hat{\\mathbf{j}}(τ, σ) + \\hat{\\mathbf{i}}(τ, σ)⋅σ⋅τ\n",
       "⎝  2    2 ⎠                                                    "
      ]
     },
     "execution_count": 79,
     "metadata": {},
     "output_type": "execute_result"
    }
   ],
   "source": [
    "r_cartesian_ij = ihat*r_cartesian_st[0] + jhat*r_cartesian_st[1]\n",
    "r_cartesian_ij"
   ]
  },
  {
   "cell_type": "code",
   "execution_count": 84,
   "metadata": {},
   "outputs": [
    {
     "data": {
      "image/png": "[encoded data removed]",
      "text/latex": [
       "$\\displaystyle \\frac{\\left(\\operatorname{\\hat{\\mathbf{e}}_{\\sigma}}\\left(\\tau,\\sigma\\right) \\sigma + \\operatorname{\\hat{\\mathbf{e}}_{\\tau}}\\left(\\tau,\\sigma\\right) \\tau\\right) \\sqrt{\\sigma^{2} + \\tau^{2}}}{2}$"
      ],
      "text/plain": [
       "                                                                         _____\n",
       "                                                                        ╱  2  \n",
       "(\\hat{\\mathbf{e}}_{\\sigma}(τ, σ)⋅σ + \\hat{\\mathbf{e}}_{\\tau}(τ, σ)⋅τ)⋅╲╱  σ  +\n",
       "──────────────────────────────────────────────────────────────────────────────\n",
       "                                        2                                     \n",
       "\n",
       "____\n",
       "  2 \n",
       " τ  \n",
       "────\n",
       "    "
      ]
     },
     "execution_count": 84,
     "metadata": {},
     "output_type": "execute_result"
    }
   ],
   "source": [
    "r_parabolic = r_cartesian_ij.subs(sln)\n",
    "r_parabolic.factor()"
   ]
  },
  {
   "cell_type": "code",
   "execution_count": 90,
   "metadata": {},
   "outputs": [
    {
     "data": {
      "image/png": "[encoded data removed]",
      "text/latex": [
       "$\\displaystyle \\left\\{ \\frac{d}{d \\sigma{\\left(t \\right)}} \\hat{\\mathbf{e}}_{\\sigma}{\\left(\\tau{\\left(t \\right)},\\sigma{\\left(t \\right)} \\right)} : - \\frac{\\operatorname{\\hat{\\mathbf{e}}_{\\tau}}\\left(\\tau,\\sigma\\right) \\tau}{\\sigma^{2} + \\tau^{2}}, \\  \\frac{d}{d \\tau{\\left(t \\right)}} \\hat{\\mathbf{e}}_{\\sigma}{\\left(\\tau{\\left(t \\right)},\\sigma{\\left(t \\right)} \\right)} : \\frac{\\operatorname{\\hat{\\mathbf{e}}_{\\tau}}\\left(\\tau,\\sigma\\right) \\sigma}{\\sigma^{2} + \\tau^{2}}, \\  \\frac{d}{d \\sigma{\\left(t \\right)}} \\hat{\\mathbf{e}}_{\\tau}{\\left(\\tau{\\left(t \\right)},\\sigma{\\left(t \\right)} \\right)} : \\frac{\\operatorname{\\hat{\\mathbf{e}}_{\\sigma}}\\left(\\tau,\\sigma\\right) \\tau}{\\sigma^{2} + \\tau^{2}}, \\  \\frac{d}{d \\tau{\\left(t \\right)}} \\hat{\\mathbf{e}}_{\\tau}{\\left(\\tau{\\left(t \\right)},\\sigma{\\left(t \\right)} \\right)} : - \\frac{\\operatorname{\\hat{\\mathbf{e}}_{\\sigma}}\\left(\\tau,\\sigma\\right) \\sigma}{\\sigma^{2} + \\tau^{2}}\\right\\}$"
      ],
      "text/plain": [
       "⎧d                                    -\\hat{\\mathbf{e}}_{\\tau}(τ, σ)⋅τ   d    \n",
       "⎪──(\\hat{\\mathbf{e}}_{\\sigma}(τ, σ)): ─────────────────────────────────, ──(\\h\n",
       "⎨dσ                                                 2    2               dτ   \n",
       "⎪                                                  σ  + τ                     \n",
       "⎩                                                                             \n",
       "\n",
       "                                \\hat{\\mathbf{e}}_{\\tau}(τ, σ)⋅σ  d            \n",
       "at{\\mathbf{e}}_{\\sigma}(τ, σ)): ───────────────────────────────, ──(\\hat{\\math\n",
       "                                             2    2              dσ           \n",
       "                                            σ  + τ                            \n",
       "                                                                              \n",
       "\n",
       "                      \\hat{\\mathbf{e}}_{\\sigma}(τ, σ)⋅τ  d                    \n",
       "bf{e}}_{\\tau}(τ, σ)): ─────────────────────────────────, ──(\\hat{\\mathbf{e}}_{\n",
       "                                    2    2               dτ                   \n",
       "                                   σ  + τ                                     \n",
       "                                                                              \n",
       "\n",
       "              -\\hat{\\mathbf{e}}_{\\sigma}(τ, σ)⋅σ ⎫\n",
       "\\tau}(τ, σ)): ───────────────────────────────────⎪\n",
       "                             2    2              ⎬\n",
       "                            σ  + τ               ⎪\n",
       "                                                 ⎭"
      ]
     },
     "execution_count": 90,
     "metadata": {},
     "output_type": "execute_result"
    }
   ],
   "source": [
    "partialderivatives = {smp.diff(e_t, sig): e_s * tau / (tau**2 + sig**2), smp.diff(e_t, tau): -e_s * sig / (tau**2 + sig**2),\n",
    "                      smp.diff(e_s, sig): -e_t * tau / (tau**2 + sig**2), smp.diff(e_s, tau): e_t * sig / (tau**2 + sig**2)}\n",
    "partialderivatives"
   ]
  },
  {
   "cell_type": "code",
   "execution_count": 95,
   "metadata": {},
   "outputs": [
    {
     "data": {
      "image/png": "[encoded data removed]",
      "text/latex": [
       "$\\displaystyle \\left(\\operatorname{\\hat{\\mathbf{e}}_{\\sigma}}\\left(\\tau,\\sigma\\right) \\dot{\\sigma} + \\operatorname{\\hat{\\mathbf{e}}_{\\tau}}\\left(\\tau,\\sigma\\right) \\dot{\\tau}\\right) \\sqrt{\\sigma^{2} + \\tau^{2}}$"
      ],
      "text/plain": [
       "                                                                         _____\n",
       "                                                                        ╱  2  \n",
       "(\\hat{\\mathbf{e}}_{\\sigma}(τ, σ)⋅σ̇ + \\hat{\\mathbf{e}}_{\\tau}(τ, σ)⋅τ̇)⋅╲╱  σ \n",
       "\n",
       "____\n",
       "  2 \n",
       " + τ  "
      ]
     },
     "execution_count": 95,
     "metadata": {},
     "output_type": "execute_result"
    }
   ],
   "source": [
    "v_parabolic = smp.diff(r_parabolic, t).subs(partialderivatives).factor().simplify()\n",
    "v_parabolic"
   ]
  },
  {
   "cell_type": "code",
   "execution_count": 92,
   "metadata": {},
   "outputs": [
    {
     "data": {
      "image/png": "[encoded data removed]",
      "text/latex": [
       "$\\displaystyle \\frac{\\left(\\sigma^{2} \\ddot{\\sigma} + \\sigma \\dot{\\sigma}^{2} - \\sigma \\dot{\\tau}^{2} + \\tau^{2} \\ddot{\\sigma} + 2 \\tau \\dot{\\sigma} \\dot{\\tau}\\right) \\operatorname{\\hat{\\mathbf{e}}_{\\sigma}}\\left(\\tau,\\sigma\\right) + \\left(\\sigma^{2} \\ddot{\\tau} + 2 \\sigma \\dot{\\sigma} \\dot{\\tau} + \\tau^{2} \\ddot{\\tau} - \\tau \\dot{\\sigma}^{2} + \\tau \\dot{\\tau}^{2}\\right) \\operatorname{\\hat{\\mathbf{e}}_{\\tau}}\\left(\\tau,\\sigma\\right)}{\\sqrt{\\sigma^{2} + \\tau^{2}}}$"
      ],
      "text/plain": [
       "⎛ 2        2      2    2            ⎞                                   ⎛ 2   \n",
       "⎝σ ⋅σ̈ + σ⋅σ̇  - σ⋅τ̇  + τ ⋅σ̈ + 2⋅τ⋅σ̇⋅τ̇⎠⋅\\hat{\\mathbf{e}}_{\\sigma}(τ, σ) + \n",
       "──────────────────────────────────────────────────────────────────────────────\n",
       "                                                                   _________  \n",
       "                                                                  ╱  2    2   \n",
       "                                                                ╲╱  σ  + τ    \n",
       "\n",
       "             2        2      2⎞                              \n",
       "⎝σ ⋅τ̈ + 2⋅σ⋅σ̇⋅τ̇ + τ ⋅τ̈ - τ⋅σ̇  + τ⋅τ̇ ⎠⋅\\hat{\\mathbf{e}}_{\\tau}(τ, σ)\n",
       "─────────────────────────────────────────────────────────────\n",
       "                                                             \n",
       "                                                             \n",
       "                                                             "
      ]
     },
     "execution_count": 92,
     "metadata": {},
     "output_type": "execute_result"
    }
   ],
   "source": [
    "a_parabolic = smp.diff(v_parabolic, t).subs(partialderivatives).simplify().factor(e_t, e_s)\n",
    "a_parabolic"
   ]
  }
 ],
 "metadata": {
  "kernelspec": {
   "display_name": "Python 3",
   "language": "python",
   "name": "python3"
  },
  "language_info": {
   "codemirror_mode": {
    "name": "ipython",
    "version": 3
   },
   "file_extension": ".py",
   "mimetype": "text/x-python",
   "name": "python",
   "nbconvert_exporter": "python",
   "pygments_lexer": "ipython3",
   "version": "3.11.3"
  }
 },
 "nbformat": 4,
 "nbformat_minor": 2
}
