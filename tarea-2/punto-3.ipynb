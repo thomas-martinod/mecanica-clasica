{
 "cells": [
  {
   "cell_type": "markdown",
   "metadata": {},
   "source": [
    "## Parte Computacional Punto 3\n",
    "### Coordenadas parabólicas\n",
    "\n",
    "Autores: Juan Fernando Riascos y Thomas Martinod\n",
    "\n",
    "En este `.ipynb` se presenta brevemente la segunda parte del tercer numeral de la segunda tarea de Mecánica Clásica... Vamos a resolver numéricamente las ecuaciones de Lagrange para diferentes condiciones iniciales y analizar los resultados."
   ]
  },
  {
   "cell_type": "markdown",
   "metadata": {},
   "source": [
    "Inicialmente, vamos a usar `sympy` para definir las variables simbólicamente, luego aplicar `lambdiify` y así obtener funciones, de modo que luego se usará `scipy.integrate.odeint` para resolver las ecuaciones de Euler Lagrange (EL)."
   ]
  },
  {
   "cell_type": "code",
   "execution_count": 2,
   "metadata": {},
   "outputs": [
    {
     "data": {
      "image/png": "[encoded data removed]",
      "text/latex": [
       "$\\displaystyle \\tau$"
      ],
      "text/plain": [
       "τ"
      ]
     },
     "execution_count": 2,
     "metadata": {},
     "output_type": "execute_result"
    }
   ],
   "source": [
    "# Importe de librerías\n",
    "import sympy as smp\n",
    "import numpy as np\n",
    "import matplotlib.pyplot as plt\n",
    "from scipy.integrate import odeint\n",
    "\n",
    "from sympy.physics.mechanics import *\n",
    "init_vprinting(pretty_print=True)\n",
    "\n",
    "# Definimos las variables simbólicas\n",
    "t, m = smp.symbols('t, m')\n",
    "\n",
    "tau, sig = smp.symbols('tau, sigma', cls=smp.Function)\n",
    "tau, sig = tau(t), sig(t)\n",
    "tau"
   ]
  },
  {
   "cell_type": "code",
   "execution_count": 3,
   "metadata": {},
   "outputs": [
    {
     "data": {
      "image/png": "[encoded data removed]",
      "text/latex": [
       "$\\displaystyle \\ddot{\\sigma}$"
      ],
      "text/plain": [
       "σ̈"
      ]
     },
     "execution_count": 3,
     "metadata": {},
     "output_type": "execute_result"
    }
   ],
   "source": [
    "# Definimos las derivadas de las coordenadas\n",
    "dtau = smp.diff(tau, t)\n",
    "dsig = smp.diff(sig, t)\n",
    "\n",
    "d2tau = smp.diff(dtau, t)\n",
    "d2sig = smp.diff(dsig, t)\n",
    "\n",
    "d2sig"
   ]
  },
  {
   "cell_type": "code",
   "execution_count": 4,
   "metadata": {},
   "outputs": [],
   "source": [
    "# Definimos el Lagrangiano\n",
    "L = smp.Rational(1,2) * m * (tau**2 + sig**2) * (dtau**2 + dsig**2)"
   ]
  },
  {
   "cell_type": "markdown",
   "metadata": {},
   "source": [
    "Recordemos que las ecuaciones EL son:\n",
    "\n",
    "$$    \\frac{\\partial L}{\\partial u_i} - \\frac{d}{dt}\\left(\\frac{\\partial L}{\\partial \\dot{u}_i}\\right) = 0 $$\n",
    "\n",
    "o también se escriben:\n",
    "\n",
    "$$L_{u_i} - \\frac{d}{dt} L_{\\dot{u}_i} = 0$$\n",
    "\n",
    "Comencemos con $u_i = \\tau$."
   ]
  },
  {
   "cell_type": "code",
   "execution_count": 5,
   "metadata": {},
   "outputs": [
    {
     "data": {
      "image/png": "[encoded data removed]",
      "text/latex": [
       "$\\displaystyle m \\left(\\dot{\\sigma}^{2} + \\dot{\\tau}^{2}\\right) \\tau$"
      ],
      "text/plain": [
       "  ⎛ 2    2⎞  \n",
       "m⋅⎝σ̇  + τ̇ ⎠⋅τ"
      ]
     },
     "execution_count": 5,
     "metadata": {},
     "output_type": "execute_result"
    }
   ],
   "source": [
    "L_tau = smp.diff(L, tau)\n",
    "L_tau"
   ]
  },
  {
   "cell_type": "code",
   "execution_count": 6,
   "metadata": {},
   "outputs": [
    {
     "data": {
      "image/png": "[encoded data removed]",
      "text/latex": [
       "$\\displaystyle m \\left(\\sigma^{2} + \\tau^{2}\\right) \\dot{\\tau}$"
      ],
      "text/plain": [
       "  ⎛ 2    2⎞  \n",
       "m⋅⎝σ  + τ ⎠⋅τ̇"
      ]
     },
     "execution_count": 6,
     "metadata": {},
     "output_type": "execute_result"
    }
   ],
   "source": [
    "L_dtau = smp.diff(L, dtau)\n",
    "L_dtau"
   ]
  },
  {
   "cell_type": "code",
   "execution_count": 7,
   "metadata": {},
   "outputs": [
    {
     "data": {
      "image/png": "[encoded data removed]",
      "text/latex": [
       "$\\displaystyle m \\left(2 \\sigma \\dot{\\sigma} + 2 \\tau \\dot{\\tau}\\right) \\dot{\\tau} + m \\left(\\sigma^{2} + \\tau^{2}\\right) \\ddot{\\tau}$"
      ],
      "text/plain": [
       "                        ⎛ 2    2⎞  \n",
       "m⋅(2⋅σ⋅σ̇ + 2⋅τ⋅τ̇)⋅τ̇ + m⋅⎝σ  + τ ⎠⋅τ̈"
      ]
     },
     "execution_count": 7,
     "metadata": {},
     "output_type": "execute_result"
    }
   ],
   "source": [
    "dL_dtau = smp.diff(L_dtau, t)\n",
    "dL_dtau"
   ]
  },
  {
   "cell_type": "code",
   "execution_count": 8,
   "metadata": {},
   "outputs": [
    {
     "data": {
      "image/png": "[encoded data removed]",
      "text/latex": [
       "$\\displaystyle - m \\left(2 \\sigma \\dot{\\sigma} + 2 \\tau \\dot{\\tau}\\right) \\dot{\\tau} - m \\left(\\sigma^{2} + \\tau^{2}\\right) \\ddot{\\tau} + m \\left(\\dot{\\sigma}^{2} + \\dot{\\tau}^{2}\\right) \\tau = 0$"
      ],
      "text/plain": [
       "                         ⎛ 2    2⎞       ⎛ 2    2⎞      \n",
       "-m⋅(2⋅σ⋅σ̇ + 2⋅τ⋅τ̇)⋅τ̇ - m⋅⎝σ  + τ ⎠⋅τ̈ + m⋅⎝σ̇  + τ̇ ⎠⋅τ = 0"
      ]
     },
     "execution_count": 8,
     "metadata": {},
     "output_type": "execute_result"
    }
   ],
   "source": [
    "EL1 = smp.Eq(L_tau - dL_dtau, 0)\n",
    "EL1"
   ]
  },
  {
   "cell_type": "markdown",
   "metadata": {},
   "source": [
    "Ahora obtengamos la segunda ecuación de Euler Lagrange con $u_i = \\sigma$:"
   ]
  },
  {
   "cell_type": "code",
   "execution_count": 9,
   "metadata": {},
   "outputs": [],
   "source": [
    "L_sig = smp.diff(L, sig)"
   ]
  },
  {
   "cell_type": "code",
   "execution_count": 10,
   "metadata": {},
   "outputs": [],
   "source": [
    "L_dsig = smp.diff(L, dsig)"
   ]
  },
  {
   "cell_type": "code",
   "execution_count": 11,
   "metadata": {},
   "outputs": [],
   "source": [
    "dL_dsig = smp.diff(L_dsig, t)"
   ]
  },
  {
   "cell_type": "code",
   "execution_count": 12,
   "metadata": {},
   "outputs": [
    {
     "data": {
      "image/png": "[encoded data removed]",
      "text/latex": [
       "$\\displaystyle - m \\left(2 \\sigma \\dot{\\sigma} + 2 \\tau \\dot{\\tau}\\right) \\dot{\\sigma} - m \\left(\\sigma^{2} + \\tau^{2}\\right) \\ddot{\\sigma} + m \\left(\\dot{\\sigma}^{2} + \\dot{\\tau}^{2}\\right) \\sigma = 0$"
      ],
      "text/plain": [
       "                         ⎛ 2    2⎞       ⎛ 2    2⎞      \n",
       "-m⋅(2⋅σ⋅σ̇ + 2⋅τ⋅τ̇)⋅σ̇ - m⋅⎝σ  + τ ⎠⋅σ̈ + m⋅⎝σ̇  + τ̇ ⎠⋅σ = 0"
      ]
     },
     "execution_count": 12,
     "metadata": {},
     "output_type": "execute_result"
    }
   ],
   "source": [
    "EL2 = smp.Eq(L_sig - dL_dsig, 0)\n",
    "EL2"
   ]
  },
  {
   "cell_type": "markdown",
   "metadata": {},
   "source": [
    "Dadas estas dos ecuaciones diferenciales de segundo orden, despejemos $\\ddot{\\tau}$ y $\\ddot{\\sigma}$:"
   ]
  },
  {
   "cell_type": "code",
   "execution_count": 16,
   "metadata": {},
   "outputs": [
    {
     "data": {
      "image/png": "[encoded data removed]",
      "text/latex": [
       "$\\displaystyle \\left\\{ \\ddot{\\sigma} : \\frac{- \\sigma \\dot{\\sigma}^{2} + \\sigma \\dot{\\tau}^{2} - 2 \\tau \\dot{\\sigma} \\dot{\\tau}}{\\sigma^{2} + \\tau^{2}}, \\  \\ddot{\\tau} : \\frac{- 2 \\sigma \\dot{\\sigma} \\dot{\\tau} + \\tau \\dot{\\sigma}^{2} - \\tau \\dot{\\tau}^{2}}{\\sigma^{2} + \\tau^{2}}\\right\\}$"
      ],
      "text/plain": [
       "⎧        2      2                             2      2⎫\n",
       "⎪   - σ⋅σ̇  + σ⋅τ̇  - 2⋅τ⋅σ̇⋅τ̇     -2⋅σ⋅σ̇⋅τ̇ + τ⋅σ̇  - τ⋅τ̇ ⎪\n",
       "⎨σ̈: ───────────────────────, τ̈: ──────────────────────⎬\n",
       "⎪            2    2                     2    2        ⎪\n",
       "⎩           σ  + τ                     σ  + τ         ⎭"
      ]
     },
     "execution_count": 16,
     "metadata": {},
     "output_type": "execute_result"
    }
   ],
   "source": [
    "sln = smp.solve([EL1, EL2], (d2tau, d2sig))\n",
    "sln"
   ]
  },
  {
   "cell_type": "markdown",
   "metadata": {},
   "source": [
    "Inicialmente, necesitamos cuatro EDOs de primer orden a partir de las dos EDOs de segundo orden que obtuvimos. Para ello definimos las variables auxiliares $z_\\tau$ y $z_\\sigma$ como:\n",
    "\n",
    "$$ \\frac{d\\tau}{dt} =: z_\\tau$$\n",
    "$$ \\frac{d\\sigma}{dt} =: z_\\sigma$$\n",
    "\n",
    "\n",
    "Obteniendo entonces el sistema de cuatro EDOs de primer orden:\n",
    "\n",
    "$$ \\frac{d\\tau}{dt} = z_\\tau$$\n",
    "$$\\frac{d z_{\\tau}}{dt} = \\frac{- 2 \\sigma z_{\\sigma} z_{\\tau}+ \\tau (z_{\\sigma})^{2} - \\tau (z_{\\tau})^2}{\\sigma^{2} + \\tau^{2}}$$\n",
    "$$ \\frac{d\\sigma}{dt} = z_\\sigma$$\n",
    "$$ \\frac{dz_{\\sigma}}{dt} = \\frac{-\\sigma (z_{\\sigma})^2 + \\sigma (z_{\\tau})^2 - 2\\tau z_{\\sigma} z_\\tau}{\\sigma^2 + \\tau^2} $$"
   ]
  },
  {
   "cell_type": "markdown",
   "metadata": {},
   "source": []
  },
  {
   "cell_type": "markdown",
   "metadata": {},
   "source": [
    "\n",
    "\n",
    "\n",
    "\n",
    "\n",
    "Necesitamos convertir las anteriores funciones simbólicas a numéricas. Para ello usamos `smp.lambdify`.\n",
    "\n",
    "\n"
   ]
  },
  {
   "cell_type": "code",
   "execution_count": null,
   "metadata": {},
   "outputs": [],
   "source": []
  }
 ],
 "metadata": {
  "kernelspec": {
   "display_name": "Python 3",
   "language": "python",
   "name": "python3"
  },
  "language_info": {
   "codemirror_mode": {
    "name": "ipython",
    "version": 3
   },
   "file_extension": ".py",
   "mimetype": "text/x-python",
   "name": "python",
   "nbconvert_exporter": "python",
   "pygments_lexer": "ipython3",
   "version": "3.11.3"
  }
 },
 "nbformat": 4,
 "nbformat_minor": 2
}
