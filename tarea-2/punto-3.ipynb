{
 "cells": [
  {
   "cell_type": "markdown",
   "metadata": {},
   "source": [
    "## Parte Computacional Punto 3\n",
    "### Coordenadas parabólicas\n",
    "\n",
    "Autores: Juan Fernando Riascos y Thomas Martinod\n",
    "\n",
    "En este `.ipynb` se presenta brevemente la segunda parte del tercer numeral de la segunda tarea de Mecánica Clásica... Vamos a resolver numéricamente las ecuaciones de Lagrange para diferentes condiciones iniciales y analizar los resultados."
   ]
  },
  {
   "cell_type": "markdown",
   "metadata": {},
   "source": [
    "Inicialmente, vamos a usar `sympy` para definir las variables simbólicamente, luego aplicar `lambdiify` y así obtener funciones, de modo que luego se usará `scipy.integrate.odeint` para resolver las ecuaciones de Euler Lagrange (EL)."
   ]
  },
  {
   "cell_type": "code",
   "execution_count": 21,
   "metadata": {},
   "outputs": [
    {
     "data": {
      "image/png": "[encoded data removed]",
      "text/latex": [
       "$\\displaystyle \\tau$"
      ],
      "text/plain": [
       "τ"
      ]
     },
     "execution_count": 21,
     "metadata": {},
     "output_type": "execute_result"
    }
   ],
   "source": [
    "# Importe de librerías\n",
    "import sympy as smp\n",
    "import numpy as np\n",
    "import matplotlib.pyplot as plt\n",
    "from scipy.integrate import odeint\n",
    "\n",
    "from sympy.physics.mechanics import *\n",
    "init_vprinting(pretty_print=True)\n",
    "\n",
    "# Definimos las variables simbólicas\n",
    "t, m = smp.symbols('t, m')\n",
    "\n",
    "tau, sig = smp.symbols('tau, sigma', cls=smp.Function)\n",
    "tau, sig = tau(t), sig(t)\n",
    "tau"
   ]
  },
  {
   "cell_type": "code",
   "execution_count": 22,
   "metadata": {},
   "outputs": [
    {
     "data": {
      "image/png": "[encoded data removed]",
      "text/latex": [
       "$\\displaystyle \\ddot{\\sigma}$"
      ],
      "text/plain": [
       "σ̈"
      ]
     },
     "execution_count": 22,
     "metadata": {},
     "output_type": "execute_result"
    }
   ],
   "source": [
    "# Definimos las derivadas de las coordenadas\n",
    "dtau = smp.diff(tau, t)\n",
    "dsig = smp.diff(sig, t)\n",
    "\n",
    "d2tau = smp.diff(dtau, t)\n",
    "d2sig = smp.diff(dsig, t)\n",
    "\n",
    "d2sig"
   ]
  },
  {
   "cell_type": "code",
   "execution_count": 23,
   "metadata": {},
   "outputs": [],
   "source": [
    "# Definimos el Lagrangiano\n",
    "L = smp.Rational(1,2) * m * (tau**2 + sig**2) * (dtau**2 + dsig**2)"
   ]
  },
  {
   "cell_type": "markdown",
   "metadata": {},
   "source": [
    "Recordemos que las ecuaciones EL son:\n",
    "\n",
    "$$    \\frac{\\partial L}{\\partial u_i} - \\frac{d}{dt}\\left(\\frac{\\partial L}{\\partial \\dot{u}_i}\\right) = 0 $$\n",
    "\n",
    "o también se escriben:\n",
    "\n",
    "$$L_{u_i} - \\frac{d}{dt} L_{\\dot{u}_i} = 0$$\n",
    "\n",
    "Comencemos con $u_i = \\tau$."
   ]
  },
  {
   "cell_type": "code",
   "execution_count": 24,
   "metadata": {},
   "outputs": [
    {
     "data": {
      "image/png": "[encoded data removed]",
      "text/latex": [
       "$\\displaystyle m \\left(\\dot{\\sigma}^{2} + \\dot{\\tau}^{2}\\right) \\tau$"
      ],
      "text/plain": [
       "  ⎛ 2    2⎞  \n",
       "m⋅⎝σ̇  + τ̇ ⎠⋅τ"
      ]
     },
     "execution_count": 24,
     "metadata": {},
     "output_type": "execute_result"
    }
   ],
   "source": [
    "L_tau = smp.diff(L, tau)\n",
    "L_tau"
   ]
  },
  {
   "cell_type": "code",
   "execution_count": 26,
   "metadata": {},
   "outputs": [
    {
     "data": {
      "image/png": "[encoded data removed]",
      "text/latex": [
       "$\\displaystyle m \\left(\\sigma^{2} + \\tau^{2}\\right) \\dot{\\tau}$"
      ],
      "text/plain": [
       "  ⎛ 2    2⎞  \n",
       "m⋅⎝σ  + τ ⎠⋅τ̇"
      ]
     },
     "execution_count": 26,
     "metadata": {},
     "output_type": "execute_result"
    }
   ],
   "source": [
    "L_dtau = smp.diff(L, dtau)\n",
    "L_dtau"
   ]
  },
  {
   "cell_type": "code",
   "execution_count": 34,
   "metadata": {},
   "outputs": [
    {
     "data": {
      "image/png": "[encoded data removed]",
      "text/latex": [
       "$\\displaystyle m \\left(2 \\sigma \\dot{\\sigma} + 2 \\tau \\dot{\\tau}\\right) \\dot{\\tau} + m \\left(\\sigma^{2} + \\tau^{2}\\right) \\ddot{\\tau}$"
      ],
      "text/plain": [
       "                        ⎛ 2    2⎞  \n",
       "m⋅(2⋅σ⋅σ̇ + 2⋅τ⋅τ̇)⋅τ̇ + m⋅⎝σ  + τ ⎠⋅τ̈"
      ]
     },
     "execution_count": 34,
     "metadata": {},
     "output_type": "execute_result"
    }
   ],
   "source": [
    "dL_dtau = smp.diff(L_dtau, t)\n",
    "dL_dtau"
   ]
  },
  {
   "cell_type": "code",
   "execution_count": 31,
   "metadata": {},
   "outputs": [
    {
     "data": {
      "image/png": "[encoded data removed]",
      "text/latex": [
       "$\\displaystyle - m \\left(2 \\sigma \\dot{\\sigma} + 2 \\tau \\dot{\\tau}\\right) \\dot{\\tau} - m \\left(\\sigma^{2} + \\tau^{2}\\right) \\ddot{\\tau} + m \\left(\\dot{\\sigma}^{2} + \\dot{\\tau}^{2}\\right) \\tau = 0$"
      ],
      "text/plain": [
       "                         ⎛ 2    2⎞       ⎛ 2    2⎞      \n",
       "-m⋅(2⋅σ⋅σ̇ + 2⋅τ⋅τ̇)⋅τ̇ - m⋅⎝σ  + τ ⎠⋅τ̈ + m⋅⎝σ̇  + τ̇ ⎠⋅τ = 0"
      ]
     },
     "execution_count": 31,
     "metadata": {},
     "output_type": "execute_result"
    }
   ],
   "source": [
    "EL1 = smp.Eq(L_tau - dL_dtau, 0)\n",
    "EL1"
   ]
  },
  {
   "cell_type": "markdown",
   "metadata": {},
   "source": [
    "Ahora obtengamos la segunda ecuación de Euler Lagrange con $u_i = \\sigma$:"
   ]
  },
  {
   "cell_type": "code",
   "execution_count": 32,
   "metadata": {},
   "outputs": [],
   "source": [
    "L_sig = smp.diff(L, sig)"
   ]
  },
  {
   "cell_type": "code",
   "execution_count": 33,
   "metadata": {},
   "outputs": [],
   "source": [
    "L_dsig = smp.diff(L, dsig)"
   ]
  },
  {
   "cell_type": "code",
   "execution_count": 35,
   "metadata": {},
   "outputs": [],
   "source": [
    "dL_dsig = smp.diff(L_dsig, t)"
   ]
  },
  {
   "cell_type": "code",
   "execution_count": 36,
   "metadata": {},
   "outputs": [
    {
     "data": {
      "image/png": "[encoded data removed]",
      "text/latex": [
       "$\\displaystyle - m \\left(2 \\sigma \\dot{\\sigma} + 2 \\tau \\dot{\\tau}\\right) \\dot{\\sigma} - m \\left(\\sigma^{2} + \\tau^{2}\\right) \\ddot{\\sigma} + m \\left(\\dot{\\sigma}^{2} + \\dot{\\tau}^{2}\\right) \\sigma = 0$"
      ],
      "text/plain": [
       "                         ⎛ 2    2⎞       ⎛ 2    2⎞      \n",
       "-m⋅(2⋅σ⋅σ̇ + 2⋅τ⋅τ̇)⋅σ̇ - m⋅⎝σ  + τ ⎠⋅σ̈ + m⋅⎝σ̇  + τ̇ ⎠⋅σ = 0"
      ]
     },
     "execution_count": 36,
     "metadata": {},
     "output_type": "execute_result"
    }
   ],
   "source": [
    "EL2 = smp.Eq(L_sig - dL_dsig, 0)\n",
    "EL2"
   ]
  },
  {
   "cell_type": "markdown",
   "metadata": {},
   "source": [
    "Dadas estas dos ecuaciones diferenciales de segundo orde"
   ]
  }
 ],
 "metadata": {
  "kernelspec": {
   "display_name": "Python 3",
   "language": "python",
   "name": "python3"
  },
  "language_info": {
   "codemirror_mode": {
    "name": "ipython",
    "version": 3
   },
   "file_extension": ".py",
   "mimetype": "text/x-python",
   "name": "python",
   "nbconvert_exporter": "python",
   "pygments_lexer": "ipython3",
   "version": "3.11.3"
  }
 },
 "nbformat": 4,
 "nbformat_minor": 2
}
