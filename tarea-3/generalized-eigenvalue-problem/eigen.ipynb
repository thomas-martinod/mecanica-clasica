{
 "cells": [
  {
   "cell_type": "code",
   "execution_count": 36,
   "metadata": {},
   "outputs": [],
   "source": [
    "import sympy as smp\n",
    "g, m1, m2, L1, L2 = smp.symbols(\"g, m_1, m_2, L_1, L_2\")"
   ]
  },
  {
   "cell_type": "code",
   "execution_count": 37,
   "metadata": {},
   "outputs": [
    {
     "data": {
      "text/latex": [
       "$\\displaystyle \\left[\\begin{matrix}L_{1}^{2} \\left(m_{1} + m_{2}\\right) & L_{1} L_{2} m_{2}\\\\L_{1} L_{2} m_{2} & L_{2}^{2} m_{2}\\end{matrix}\\right]$"
      ],
      "text/plain": [
       "Matrix([\n",
       "[L_1**2*(m_1 + m_2), L_1*L_2*m_2],\n",
       "[       L_1*L_2*m_2,  L_2**2*m_2]])"
      ]
     },
     "metadata": {},
     "output_type": "display_data"
    },
    {
     "data": {
      "text/latex": [
       "$\\displaystyle \\left[\\begin{matrix}L_{1} g \\left(m_{1} + m_{2}\\right) & 0\\\\0 & L_{2} g m_{2}\\end{matrix}\\right]$"
      ],
      "text/plain": [
       "Matrix([\n",
       "[L_1*g*(m_1 + m_2),         0],\n",
       "[                0, L_2*g*m_2]])"
      ]
     },
     "metadata": {},
     "output_type": "display_data"
    }
   ],
   "source": [
    "M = smp.Matrix([[L1**2 * (m1 + m2), m2*L1*L2],[m2*L1*L2, m2*L2**2]])\n",
    "K = smp.Matrix([[(m1 +m2)*g*L1, 0],[0, m2*g*L2]])\n",
    "\n",
    "display(M, K)\n",
    "\n",
    "values = {g: 10, m1: 2, m2: 1, L1: 2, L2: 1}"
   ]
  },
  {
   "cell_type": "code",
   "execution_count": 38,
   "metadata": {},
   "outputs": [
    {
     "data": {
      "text/latex": [
       "$\\displaystyle \\left[\\begin{matrix}60 & 0\\\\0 & 10\\end{matrix}\\right]$"
      ],
      "text/plain": [
       "Matrix([\n",
       "[60,  0],\n",
       "[ 0, 10]])"
      ]
     },
     "execution_count": 38,
     "metadata": {},
     "output_type": "execute_result"
    }
   ],
   "source": [
    "A = K.subs(values)\n",
    "A"
   ]
  },
  {
   "cell_type": "code",
   "execution_count": 39,
   "metadata": {},
   "outputs": [
    {
     "data": {
      "text/latex": [
       "$\\displaystyle \\left[\\begin{matrix}12 & 2\\\\2 & 1\\end{matrix}\\right]$"
      ],
      "text/plain": [
       "Matrix([\n",
       "[12, 2],\n",
       "[ 2, 1]])"
      ]
     },
     "execution_count": 39,
     "metadata": {},
     "output_type": "execute_result"
    }
   ],
   "source": [
    "B = M.subs(values)\n",
    "B"
   ]
  },
  {
   "cell_type": "code",
   "execution_count": 40,
   "metadata": {},
   "outputs": [
    {
     "data": {
      "text/latex": [
       "$\\displaystyle \\left[\\begin{matrix}\\frac{15}{2} & - \\frac{5}{2}\\\\-15 & 15\\end{matrix}\\right]$"
      ],
      "text/plain": [
       "Matrix([\n",
       "[15/2, -5/2],\n",
       "[ -15,   15]])"
      ]
     },
     "execution_count": 40,
     "metadata": {},
     "output_type": "execute_result"
    }
   ],
   "source": [
    "H = B.inv() * A\n",
    "H"
   ]
  },
  {
   "cell_type": "code",
   "execution_count": 41,
   "metadata": {},
   "outputs": [],
   "source": [
    "def getEigen(M):\n",
    "    # Obtiene el tamaño de la matriz M\n",
    "    m = M.shape[0]\n",
    "    # Se inicializan dos listas vacías para los autovalores (vals) y los autovectores (vects)\n",
    "    vals, vects = [], []\n",
    "\n",
    "    # Obtiene los valores propios y los vectores propios de la matriz M\n",
    "    eig = M.eigenvects()\n",
    "\n",
    "    # Itera sobre los valores propios, sus multiplicidades y los vectores propios correspondientes\n",
    "    for i in eig:\n",
    "        # Itera sobre el número de vectores propios asociados a un valor propio\n",
    "        for j in range(i[1]):\n",
    "            # Añade el valor propio expandido y simplificado a la lista de valores propios\n",
    "            vals.append(smp.simplify(i[0].expand(complex=True)))\n",
    "            # Añade el vector propio expandido y simplificado a la lista de vectores propios\n",
    "            vects.append(smp.simplify(i[2][j].expand(complex=True)))\n",
    "\n",
    "    # Crea una matriz de ceros del mismo tamaño que la lista de vectores propios\n",
    "    Svects = smp.zeros(m)\n",
    "\n",
    "    # Convierte los elementos de la lista de vectores propios en objetos Matrix y los asigna a Svects\n",
    "    for i in range(len(vects)):\n",
    "        Svects[i] = smp.Matrix(vects[i])\n",
    "\n",
    "    # Devuelve una tupla que contiene una matriz m x 1 de valores propios y una matriz m x m de vectores propios\n",
    "    return smp.Matrix(vals), Svects"
   ]
  },
  {
   "cell_type": "code",
   "execution_count": 42,
   "metadata": {},
   "outputs": [],
   "source": [
    "def getNorm(v):\n",
    "    # Calcula la norma del vector v utilizando la suma de los cuadrados de sus componentes\n",
    "    # y toma la raíz cuadrada del resultado. Luego simplifica la expresión.\n",
    "    norm = smp.simplify(smp.sqrt(sum(smp.Abs(i)**2 for i in v)).expand(complex=True))\n",
    "    return norm\n",
    "\n",
    "def Normalize(v):\n",
    "    # Calcula la norma del vector v utilizando la función getNorm definida anteriormente.\n",
    "    norm = getNorm(v)\n",
    "\n",
    "    # Normaliza el vector v dividiendo cada componente por la norma.\n",
    "    normalized_vector = smp.simplify((v*(1/norm)).expand(complex=True))\n",
    "\n",
    "    return normalized_vector"
   ]
  },
  {
   "cell_type": "code",
   "execution_count": 43,
   "metadata": {},
   "outputs": [
    {
     "data": {
      "text/latex": [
       "$\\displaystyle \\left[\\begin{matrix}\\frac{45}{4} - \\frac{5 \\sqrt{33}}{4}\\\\\\frac{5 \\sqrt{33}}{4} + \\frac{45}{4}\\end{matrix}\\right]$"
      ],
      "text/plain": [
       "Matrix([\n",
       "[45/4 - 5*sqrt(33)/4],\n",
       "[5*sqrt(33)/4 + 45/4]])"
      ]
     },
     "metadata": {},
     "output_type": "display_data"
    }
   ],
   "source": [
    "Hvals, Hvects = getEigen(H)\n",
    "\n",
    "# Muestra los valores propios y los vectores propios\n",
    "display(Hvals)"
   ]
  },
  {
   "cell_type": "code",
   "execution_count": 55,
   "metadata": {},
   "outputs": [],
   "source": [
    "A = smp.Matrix([[-2, 1],[1, 2]])"
   ]
  },
  {
   "cell_type": "code",
   "execution_count": 71,
   "metadata": {},
   "outputs": [],
   "source": [
    "B = smp.Matrix([[smp.Rational(1,2), 2], [-1, -smp.Rational(3,2)]])"
   ]
  },
  {
   "cell_type": "code",
   "execution_count": 72,
   "metadata": {},
   "outputs": [
    {
     "data": {
      "text/latex": [
       "$\\displaystyle \\left[\\begin{matrix}\\frac{4}{5} & - \\frac{22}{5}\\\\- \\frac{6}{5} & \\frac{8}{5}\\end{matrix}\\right]$"
      ],
      "text/plain": [
       "Matrix([\n",
       "[ 4/5, -22/5],\n",
       "[-6/5,   8/5]])"
      ]
     },
     "execution_count": 72,
     "metadata": {},
     "output_type": "execute_result"
    }
   ],
   "source": [
    "H = B.inv() * A\n",
    "H"
   ]
  },
  {
   "cell_type": "code",
   "execution_count": 73,
   "metadata": {},
   "outputs": [
    {
     "data": {
      "text/latex": [
       "$\\displaystyle \\left[\\begin{matrix}\\frac{6}{5} - \\frac{2 \\sqrt{34}}{5}\\\\\\frac{6}{5} + \\frac{2 \\sqrt{34}}{5}\\end{matrix}\\right]$"
      ],
      "text/plain": [
       "Matrix([\n",
       "[6/5 - 2*sqrt(34)/5],\n",
       "[6/5 + 2*sqrt(34)/5]])"
      ]
     },
     "metadata": {},
     "output_type": "display_data"
    },
    {
     "data": {
      "text/latex": [
       "$\\displaystyle \\left[\\begin{matrix}\\frac{1}{3} + \\frac{\\sqrt{34}}{3} & \\frac{1}{3} - \\frac{\\sqrt{34}}{3}\\\\1 & 1\\end{matrix}\\right]$"
      ],
      "text/plain": [
       "Matrix([\n",
       "[1/3 + sqrt(34)/3, 1/3 - sqrt(34)/3],\n",
       "[               1,                1]])"
      ]
     },
     "metadata": {},
     "output_type": "display_data"
    }
   ],
   "source": [
    "Hvals, Hvects = getEigen(H)\n",
    "display(Hvals, Hvects)"
   ]
  },
  {
   "cell_type": "code",
   "execution_count": 76,
   "metadata": {},
   "outputs": [
    {
     "name": "stdout",
     "output_type": "stream",
     "text": [
      "\\left[\\begin{matrix}\\frac{1}{3} + \\frac{\\sqrt{34}}{3}\\\\1\\end{matrix}\\right]\n"
     ]
    }
   ],
   "source": [
    "print(smp.latex(Hvects.col(0)))"
   ]
  }
 ],
 "metadata": {
  "kernelspec": {
   "display_name": "Python 3",
   "language": "python",
   "name": "python3"
  },
  "language_info": {
   "codemirror_mode": {
    "name": "ipython",
    "version": 3
   },
   "file_extension": ".py",
   "mimetype": "text/x-python",
   "name": "python",
   "nbconvert_exporter": "python",
   "pygments_lexer": "ipython3",
   "version": "3.10.12"
  }
 },
 "nbformat": 4,
 "nbformat_minor": 2
}
